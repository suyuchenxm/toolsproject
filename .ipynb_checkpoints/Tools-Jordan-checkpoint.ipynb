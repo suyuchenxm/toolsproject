{
 "cells": [
  {
   "cell_type": "code",
   "execution_count": 77,
   "metadata": {},
   "outputs": [],
   "source": [
    "import requests\n",
    "from bs4 import BeautifulSoup\n",
    "url = 'https://finance.yahoo.com/quote/AAPL/analysis?p=AAPL'\n",
    "\n",
    "# def find_stock():\n",
    "#     stock_stats = list()\n",
    "\n",
    "response = requests.get(url)\n",
    "results_page = BeautifulSoup(response.content, 'lxml')\n",
    "content = results_page.find_all('tbody')\n",
    "# content\n",
    "# competitors = content.find_all('tr')\n",
    "# competitors\n",
    "\n",
    "# for data in competitors:\n",
    "#     competitors_stats = list()\n",
    "#     name = competitors.get_text()"
   ]
  },
  {
   "cell_type": "code",
   "execution_count": 93,
   "metadata": {},
   "outputs": [
    {
     "data": {
      "text/plain": [
       "'Consumer Electronics'"
      ]
     },
     "execution_count": 93,
     "metadata": {},
     "output_type": "execute_result"
    }
   ],
   "source": [
    "import requests\n",
    "from bs4 import BeautifulSoup\n",
    "url = 'https://finance.yahoo.com/quote/AAPL/profile?p=AAPL'\n",
    "\n",
    "response = requests.get(url)\n",
    "results_page = BeautifulSoup(response.content, 'lxml')\n",
    "profile = results_page.find('div', class_='asset-profile-container')\n",
    "sector = profile.find_all('strong')[0].get_text()\n",
    "industry = profile.find_all('strong')[1].get_text()\n",
    "\n",
    "# sector and industry from Yahoo Finance"
   ]
  },
  {
   "cell_type": "code",
   "execution_count": 158,
   "metadata": {},
   "outputs": [
    {
     "data": {
      "text/plain": [
       "'Competitor Industry: Restaurants'"
      ]
     },
     "execution_count": 158,
     "metadata": {},
     "output_type": "execute_result"
    }
   ],
   "source": [
    "import requests\n",
    "from bs4 import BeautifulSoup\n",
    "url = 'https://www.nasdaq.com/symbol/mcd/competitors'\n",
    "\n",
    "response = requests.get(url)\n",
    "results_page = BeautifulSoup(response.content, 'lxml')\n",
    "industry = results_page.find('div', class_='wrap cf').find_all('h2')[3].get_text()\n",
    "industry\n",
    "# industry from nasdaq"
   ]
  },
  {
   "cell_type": "code",
   "execution_count": 136,
   "metadata": {},
   "outputs": [
    {
     "data": {
      "text/plain": [
       "['SBUX', 'YUM', 'DRI', 'QSR']"
      ]
     },
     "execution_count": 136,
     "metadata": {},
     "output_type": "execute_result"
    }
   ],
   "source": [
    "url = 'https://www.nasdaq.com/symbol/mcd/stock-comparison'\n",
    "response = requests.get(url)\n",
    "results_page = BeautifulSoup(response.content, 'lxml')\n",
    "table = results_page.find('div', class_='genTable thin')\n",
    "competitors = list()\n",
    "for i in range(4):\n",
    "    competitors.append(table.find_all('input')[i].get('value'))\n",
    "competitors\n",
    "# competitors from nasdaq"
   ]
  },
  {
   "cell_type": "code",
   "execution_count": null,
   "metadata": {},
   "outputs": [],
   "source": []
  }
 ],
 "metadata": {
  "kernelspec": {
   "display_name": "Python 3",
   "language": "python",
   "name": "python3"
  },
  "language_info": {
   "codemirror_mode": {
    "name": "ipython",
    "version": 3
   },
   "file_extension": ".py",
   "mimetype": "text/x-python",
   "name": "python",
   "nbconvert_exporter": "python",
   "pygments_lexer": "ipython3",
   "version": "3.6.5"
  }
 },
 "nbformat": 4,
 "nbformat_minor": 2
}
