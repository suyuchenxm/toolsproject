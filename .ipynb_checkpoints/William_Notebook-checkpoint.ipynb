{
 "cells": [
  {
   "cell_type": "code",
   "execution_count": 1,
   "metadata": {},
   "outputs": [
    {
     "data": {
      "text/plain": [
       "\"Apple Inc. designs, manufactures, and markets mobile communication and media devices, and personal computers. It also sells various related software, services, accessories, and third-party digital content and applications. The company offers iPhone, a line of smartphones; iPad, a line of multi-purpose tablets; and Mac, a line of desktop and portable personal computers, as well as iOS, macOS, watchOS, and tvOS operating systems. It also provides iTunes Store, an app store that allows customers to purchase and download, or stream music and TV shows; rent or purchase movies; and download free podcasts, as well as iCloud, a cloud service, which stores music, photos, contacts, calendars, mail, documents, and others. In addition, the company offers AppleCare support services; Apple Pay, a cashless payment service; Apple TV that connects to consumers' TVs and enables them to access digital content directly for streaming video, playing music and games, and viewing photos; and Apple Watch, a personal electronic device, as well as AirPods, Beats products, HomePod, iPod touch, and other Apple-branded and third-party accessories. The company serves consumers, and small and mid-sized businesses; and education, enterprise, and government customers worldwide. It sells and delivers digital content and applications through the iTunes Store, App Store, Mac App Store, TV App Store, Book Store, and Apple Music. The company also sells its products through its retail and online stores, and direct sales force; and third-party cellular network carriers, wholesalers, retailers, and resellers. Apple Inc. was founded in 1977 and is headquartered in Cupertino, California.\""
      ]
     },
     "execution_count": 1,
     "metadata": {},
     "output_type": "execute_result"
    }
   ],
   "source": [
    "#!pip install requests\n",
    "#!pip install bs4\n",
    "import requests\n",
    "from bs4 import BeautifulSoup\n",
    "url = \"https://finance.yahoo.com/quote/AAPL/profile?p=AAPL\"\n",
    "response = requests.get(url)\n",
    "results_page = BeautifulSoup(response.content,'lxml')\n",
    "summary = results_page.find_all('p',class_=\"Mt(15px) Lh(1.6)\")\n",
    "summary[0].get_text()"
   ]
  },
  {
   "cell_type": "code",
   "execution_count": 79,
   "metadata": {},
   "outputs": [
    {
     "name": "stdout",
     "output_type": "stream",
     "text": [
      "[('Market Cap (intraday)', '838.89B'), ('Enterprise Value', '966.56B'), ('Trailing P/E', '14.84'), ('Forward P/E', '11.93'), ('PEG Ratio (5 yr expected)', '1.01'), ('Price/Sales', '3.16'), ('Price/Book', '7.85'), ('Enterprise Value/Revenue', '3.64'), ('Enterprise Value/EBITDA', '11.82'), ('Fiscal Year Ends', 'Sep 29, 2018'), ('Most Recent Quarter', 'Sep 29, 2018'), ('Profit Margin', '22.41%'), ('Operating Margin', '26.69%'), ('Return on Assets', '11.96%'), ('Return on Equity', '49.36%'), ('Revenue', '265.59B'), ('Revenue Per Share', '53.60'), ('Quarterly Revenue Growth', '19.60%'), ('Gross Profit', '101.84B'), ('EBITDA', '81.8B'), ('Net Income Avi to Common', '59.53B'), ('Diluted EPS', '11.91'), ('Quarterly Earnings Growth', '31.80%'), ('Total Cash', '66.3B'), ('Total Cash Per Share', '13.97'), ('Total Debt', '114.48B'), ('Total Debt/Equity', '106.85'), ('Current Ratio', '1.12'), ('Book Value Per Share', '22.53'), ('Operating Cash Flow', '77.43B'), ('Levered Free Cash Flow', '48.42B'), ('Beta (3Y Monthly)', '1.21'), ('52-Week Change', '1.15%'), ('S&P500 52-Week Change', '1.73%'), ('52 Week High', '233.47'), ('52 Week Low', '150.24'), ('50-Day Moving Average', '211.98'), ('200-Day Moving Average', '203.72'), ('Avg Vol (3 month)', '37.03M'), ('Avg Vol (10 day)', '50.27M'), ('Shares Outstanding', '4.75B'), ('Float', '4.62B'), ('% Held by Insiders', '0.07%'), ('% Held by Institutions', '61.16%'), ('Shares Short (Oct 31, 2018)', '36.47M'), ('Short Ratio (Oct 31, 2018)', '1.06'), ('Short % of Float (Oct 31, 2018)', '0.72%'), ('Short % of Shares Outstanding (Oct 31, 2018)', '0.77%'), ('Shares Short (prior month Sep 28, 2018)', '40.2M'), ('Forward Annual Dividend Rate', '2.92'), ('Forward Annual Dividend Yield', '1.51%'), ('Trailing Annual Dividend Rate', '2.72'), ('Trailing Annual Dividend Yield', '1.54%'), ('5 Year Average Dividend Yield', '1.73'), ('Payout Ratio', '22.84%'), ('Dividend Date', 'Nov 15, 2018'), ('Ex-Dividend Date', 'Nov 8, 2018'), ('Last Split Factor (new per old)', '7/1'), ('Last Split Date', 'Jun 9, 2014')]\n"
     ]
    }
   ],
   "source": [
    "#extract financial stats for a stock\n",
    "url = \"https://finance.yahoo.com/quote/AAPL/key-statistics?p=AAPL\"\n",
    "response = requests.get(url)\n",
    "results_page = BeautifulSoup(response.content,'lxml')\n",
    "stats_lists = results_page.find_all('table')\n",
    "test_list = list()\n",
    "for i in stats_lists:\n",
    "        stat_name = i.find_all('span')\n",
    "        stock_stat = i.find_all('td',class_='Fz(s) Fw(500) Ta(end)')\n",
    "        for j in range(len(stat_name)):\n",
    "            test_list.append((stat_name[j].get_text(),stock_stat[j].get_text()))\n",
    "print(test_list)\n"
   ]
  },
  {
   "cell_type": "code",
   "execution_count": 70,
   "metadata": {},
   "outputs": [
    {
     "data": {
      "text/plain": [
       "[['Apple Is In Talks to Give Veterans Access to Electronic Medical Records 3rd Update DJ Business New',\n",
       "  'https://eresearch.fidelity.com/eresearch/evaluate/news/basicNewsStory.jhtml?symbols=AAPL&storyid=201811211543DOWJONESDJONLINE000307&provider=DOWJONES&product=DJONLINE&sb=1'],\n",
       " ['US STOCKS Wall St climbs as tech internet stocks bounce back Reuter',\n",
       "  'https://eresearch.fidelity.com/eresearch/evaluate/news/basicNewsStory.jhtml?symbols=AAPL&storyid=201811211537RTRSNEWSCOMBINED_L2N1XW1HB_1&provider=RTRSNEWS&product=COMBINED&sb=1'],\n",
       " ['BRIEF Apple Considered New Connected TV Dongle The Information Reuter',\n",
       "  'https://eresearch.fidelity.com/eresearch/evaluate/news/basicNewsStory.jhtml?symbols=AAPL&storyid=201811211529RTRSNEWSCOMBINED_FWN1XW0O4_1&provider=RTRSNEWS&product=COMBINED&sb=1'],\n",
       " ['GLOBAL MARKETS Stocks rise on tech strength oil bounces back from rout Reuter',\n",
       "  'https://eresearch.fidelity.com/eresearch/evaluate/news/basicNewsStory.jhtml?symbols=AAPL&storyid=201811211438RTRSNEWSCOMBINED_L2N1XW155_1&provider=RTRSNEWS&product=COMBINED&sb=1'],\n",
       " ['US STOCKS Wall Street recovers as technology stocks bounce back Reuter',\n",
       "  'https://eresearch.fidelity.com/eresearch/evaluate/news/basicNewsStory.jhtml?symbols=AAPL&storyid=201811211306RTRSNEWSCOMBINED_L4N1XW4H4_1&provider=RTRSNEWS&product=COMBINED&sb=1']]"
      ]
     },
     "execution_count": 70,
     "metadata": {},
     "output_type": "execute_result"
    }
   ],
   "source": [
    "#extracting related news to the stock\n",
    "\n",
    "url = \"https://eresearch.fidelity.com/eresearch/evaluate/snapshot.jhtml?symbols=AAPL\"\n",
    "response = requests.get(url)\n",
    "results_page = BeautifulSoup(response.content,'lxml')\n",
    "summary = results_page.find_all('li',class_ = \"news-item\")\n",
    "newslist = list()\n",
    "import re\n",
    "for i in summary:\n",
    "    newstext = re.sub('[^A-Za-z0-9]+', ' ', i.get_text())\n",
    "    newsurl = \"https://eresearch.fidelity.com\" + i.find_all('a')[1].get('href')\n",
    "    newslist.append([newstext[1:re.search(\" ET \",newstext).span()[0] - 9],newsurl])\n",
    "newslist\n"
   ]
  },
  {
   "cell_type": "code",
   "execution_count": 60,
   "metadata": {},
   "outputs": [
    {
     "name": "stdout",
     "output_type": "stream",
     "text": [
      "<li class=\"news-item\">\n",
      "<table border=\"0\" cellpadding=\"0\" cellspacing=\"0\">\n",
      "<tr>\n",
      "<td valign=\"top\">\n",
      "<a href=\"javascript:showDetail('image2','news-detail-2');\">\n",
      "<img alt=\"Show article details.\" border=\"0\" class=\"news-expand-plus\" height=\"12\" id=\"image2\" src=\"https://www.fidelity.com/webcontent/ap002388-eresearch-content/18.09.0/images/clear.gif\" title=\"Show article details.\" width=\"12\"/>\n",
      "</a>\n",
      "</td>\n",
      "<td valign=\"top\"><h3>\n",
      "<a href=\"/eresearch/evaluate/news/basicNewsStory.jhtml?symbols=AAPL&amp;storyid=201811211537RTRSNEWSCOMBINED_L2N1XW1HB_1&amp;provider=RTRSNEWS&amp;product=COMBINED&amp;sb=1\">\n",
      "\t\t\t\t\t\t\t\t\t  US STOCKS-Wall St climbs as tech, internet stocks bounce back\n",
      "\t\t\t\t\t\t\t\t  </a></h3>\n",
      "<div class=\"spacing-div_4X0\"></div>\n",
      "<div class=\"source\">\n",
      "\t\t\t\t\t\t\t\t\t  Reuters – \n",
      "\t\t\t\t\t\t\t\t\t  \n",
      "\n",
      "\n",
      "\n",
      "\n",
      "\n",
      "\n",
      "\n",
      "\n",
      "\t\n",
      "\t\t3:37 PM ET 11/21/2018\n",
      "\t\n",
      "\t\n",
      "\n",
      "\n",
      "\t\t\t\t\t\t\t\t  </div>\n",
      "<div class=\"news-detail-hide\" id=\"news-detail-2\">\n",
      "<div class=\"spacing-div_4X0\"></div>\n",
      "<p>* Foot Locker (<span fmr-attach-component=\"fmr.qnr.components.snapshot.Mini\" fmr-param-symbol=\"FL\">FL</span>) jumps on comparative sales beat. * Autodesk (<span fmr-attach-component=\"fmr.qnr.components.snapshot.Mini\" fmr-param-symbol=\"ADSK\">ADSK</span>) surges after results top estimates. * Energy leads gains among 11 S&amp;P sectors as oil recovers. * Indexes rise: Dow 0.4 pct, S&amp;P 0.7 pct, Nasdaq 1.3 pct. By Caroline Valetkevitch.</p>\n",
      "</div>\n",
      "<div class=\"spacing-div_13X0\"></div>\n",
      "</td>\n",
      "</tr>\n",
      "</table>\n",
      "</li>\n",
      "https://eresearch.fidelity.com/eresearch/evaluate/news/basicNewsStory.jhtml?symbols=AAPL&storyid=201811211537RTRSNEWSCOMBINED_L2N1XW1HB_1&provider=RTRSNEWS&product=COMBINED&sb=1\n"
     ]
    }
   ],
   "source": [
    "url = \"https://eresearch.fidelity.com/eresearch/evaluate/snapshot.jhtml?symbols=AAPL\"\n",
    "response = requests.get(url)\n",
    "results_page = BeautifulSoup(response.content,'lxml')\n",
    "summary = results_page.find_all('li',class_ = \"news-item\")\n",
    "print(summary[1])\n",
    "print(\"https://eresearch.fidelity.com\" + summary[1].find_all('a')[1].get('href'))"
   ]
  }
 ],
 "metadata": {
  "kernelspec": {
   "display_name": "Python 3",
   "language": "python",
   "name": "python3"
  },
  "language_info": {
   "codemirror_mode": {
    "name": "ipython",
    "version": 3
   },
   "file_extension": ".py",
   "mimetype": "text/x-python",
   "name": "python",
   "nbconvert_exporter": "python",
   "pygments_lexer": "ipython3",
   "version": "3.6.3"
  }
 },
 "nbformat": 4,
 "nbformat_minor": 2
}
