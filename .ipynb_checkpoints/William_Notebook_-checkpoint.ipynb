{
 "cells": [
  {
   "cell_type": "code",
   "execution_count": 215,
   "metadata": {},
   "outputs": [],
   "source": [
    "def get_financial_stats(ticker):\n",
    "    url = \"https://finance.yahoo.com/quote/\" + ticker + \"/key-statistics?p=\" + ticker\n",
    "    response = requests.get(url)\n",
    "    results_page = BeautifulSoup(response.content,'lxml')\n",
    "    stats_lists = results_page.find_all('table')\n",
    "    test_list = list()\n",
    "    for i in stats_lists:\n",
    "        stat_name = i.find_all('span')\n",
    "        stock_stat = i.find_all('td',class_='Fz(s) Fw(500) Ta(end)')\n",
    "        for j in range(len(stock_stat)):\n",
    "            if not stat_name[j].get_text() == 'N/A':\n",
    "                test_list.append((stat_name[j].get_text(),stock_stat[j].get_text()))\n",
    "    return test_list"
   ]
  },
  {
   "cell_type": "code",
   "execution_count": 216,
   "metadata": {},
   "outputs": [],
   "source": [
    "def get_row(ticker,measure_list):\n",
    "    from pandas_datareader import data as web\n",
    "    a = get_financial_stats(ticker)\n",
    "    a_row = list()\n",
    "    a_row.append(web.DataReader(ticker,\"yahoo\").iloc[0,3])\n",
    "    for i in measure_list:\n",
    "        if not i == \"Price\":\n",
    "            appended = 0\n",
    "            for j in a:\n",
    "                if j[0] == i:\n",
    "                    a_row.append(j[1])\n",
    "                    appended = 1\n",
    "            if appended == 0:\n",
    "                a_row.append('N/A')   \n",
    "    return a_row"
   ]
  },
  {
   "cell_type": "code",
   "execution_count": 217,
   "metadata": {},
   "outputs": [],
   "source": [
    "def comp_stat_table(stock):\n",
    "    import pandas as pd\n",
    "    import numpy as np\n",
    "    measure_list = ['Price','Market Cap (intraday)', 'Enterprise Value', 'Forward P/E', 'EBITDA', 'Total Cash Per Share', 'Dividend Date', 'Ex-Dividend Date', 'Last Split Factor (new per old)', '52 Week High']\n",
    "    r = get_competitors(stock)\n",
    "    r.insert(0, stock)\n",
    "    a_row = get_row(r[1],measure_list)\n",
    "    b_row = get_row(r[2],measure_list)\n",
    "    c_row = get_row(r[3],measure_list)\n",
    "    d_row = get_row(r[4],measure_list)\n",
    "    s_row = get_row(stock,measure_list)\n",
    "    stats_list = [s_row,a_row,b_row,c_row,d_row]\n",
    "    final_table = pd.DataFrame(stats_list,index = r, columns = measure_list)\n",
    "    return final_table"
   ]
  },
  {
   "cell_type": "code",
   "execution_count": 221,
   "metadata": {},
   "outputs": [
    {
     "data": {
      "text/html": [
       "<div>\n",
       "<style scoped>\n",
       "    .dataframe tbody tr th:only-of-type {\n",
       "        vertical-align: middle;\n",
       "    }\n",
       "\n",
       "    .dataframe tbody tr th {\n",
       "        vertical-align: top;\n",
       "    }\n",
       "\n",
       "    .dataframe thead th {\n",
       "        text-align: right;\n",
       "    }\n",
       "</style>\n",
       "<table border=\"1\" class=\"dataframe\">\n",
       "  <thead>\n",
       "    <tr style=\"text-align: right;\">\n",
       "      <th></th>\n",
       "      <th>Price</th>\n",
       "      <th>Market Cap (intraday)</th>\n",
       "      <th>Enterprise Value</th>\n",
       "      <th>Forward P/E</th>\n",
       "      <th>EBITDA</th>\n",
       "      <th>Total Cash Per Share</th>\n",
       "      <th>Dividend Date</th>\n",
       "      <th>Ex-Dividend Date</th>\n",
       "      <th>Last Split Factor (new per old)</th>\n",
       "      <th>52 Week High</th>\n",
       "    </tr>\n",
       "  </thead>\n",
       "  <tbody>\n",
       "    <tr>\n",
       "      <th>BABA</th>\n",
       "      <td>93.889999</td>\n",
       "      <td>401.94B</td>\n",
       "      <td>378.92B</td>\n",
       "      <td>23.40</td>\n",
       "      <td>12.72B</td>\n",
       "      <td>10.68</td>\n",
       "      <td>N/A</td>\n",
       "      <td>N/A</td>\n",
       "      <td>N/A</td>\n",
       "      <td>211.70</td>\n",
       "    </tr>\n",
       "    <tr>\n",
       "      <th>V</th>\n",
       "      <td>22.035000</td>\n",
       "      <td>306.96B</td>\n",
       "      <td>303.7B</td>\n",
       "      <td>22.44</td>\n",
       "      <td>13.86B</td>\n",
       "      <td>5.3</td>\n",
       "      <td>Dec 4, 2018</td>\n",
       "      <td>Nov 15, 2018</td>\n",
       "      <td>1/4</td>\n",
       "      <td>151.56</td>\n",
       "    </tr>\n",
       "    <tr>\n",
       "      <th>MA</th>\n",
       "      <td>25.684000</td>\n",
       "      <td>203.11B</td>\n",
       "      <td>186.55B</td>\n",
       "      <td>26.08</td>\n",
       "      <td>8.58B</td>\n",
       "      <td>8.22</td>\n",
       "      <td>Nov 9, 2018</td>\n",
       "      <td>Oct 5, 2018</td>\n",
       "      <td>1/10</td>\n",
       "      <td>225.35</td>\n",
       "    </tr>\n",
       "    <tr>\n",
       "      <th>ACN</th>\n",
       "      <td>42.070000</td>\n",
       "      <td>102.82B</td>\n",
       "      <td>99.22B</td>\n",
       "      <td>20.31</td>\n",
       "      <td>6.43B</td>\n",
       "      <td>7.93</td>\n",
       "      <td>Nov 15, 2018</td>\n",
       "      <td>Oct 17, 2018</td>\n",
       "      <td>1/10</td>\n",
       "      <td>175.64</td>\n",
       "    </tr>\n",
       "    <tr>\n",
       "      <th>PYPL</th>\n",
       "      <td>36.709999</td>\n",
       "      <td>99.29B</td>\n",
       "      <td>84.27B</td>\n",
       "      <td>29.16</td>\n",
       "      <td>2.7B</td>\n",
       "      <td>8.14</td>\n",
       "      <td>N/A</td>\n",
       "      <td>N/A</td>\n",
       "      <td>N/A</td>\n",
       "      <td>93.70</td>\n",
       "    </tr>\n",
       "  </tbody>\n",
       "</table>\n",
       "</div>"
      ],
      "text/plain": [
       "          Price Market Cap (intraday) Enterprise Value Forward P/E  EBITDA  \\\n",
       "BABA  93.889999               401.94B          378.92B       23.40  12.72B   \n",
       "V     22.035000               306.96B           303.7B       22.44  13.86B   \n",
       "MA    25.684000               203.11B          186.55B       26.08   8.58B   \n",
       "ACN   42.070000               102.82B           99.22B       20.31   6.43B   \n",
       "PYPL  36.709999                99.29B           84.27B       29.16    2.7B   \n",
       "\n",
       "     Total Cash Per Share Dividend Date Ex-Dividend Date  \\\n",
       "BABA                10.68           N/A              N/A   \n",
       "V                     5.3   Dec 4, 2018     Nov 15, 2018   \n",
       "MA                   8.22   Nov 9, 2018      Oct 5, 2018   \n",
       "ACN                  7.93  Nov 15, 2018     Oct 17, 2018   \n",
       "PYPL                 8.14           N/A              N/A   \n",
       "\n",
       "     Last Split Factor (new per old) 52 Week High  \n",
       "BABA                             N/A       211.70  \n",
       "V                                1/4       151.56  \n",
       "MA                              1/10       225.35  \n",
       "ACN                             1/10       175.64  \n",
       "PYPL                             N/A        93.70  "
      ]
     },
     "execution_count": 221,
     "metadata": {},
     "output_type": "execute_result"
    }
   ],
   "source": [
    "comp_stat_table('BABA')"
   ]
  },
  {
   "cell_type": "code",
   "execution_count": 54,
   "metadata": {},
   "outputs": [],
   "source": [
    "#!pip install requests\n",
    "#!pip install bs4\n",
    "def get_summary(ticker):\n",
    "    import requests\n",
    "    from bs4 import BeautifulSoup\n",
    "    url = \"https://finance.yahoo.com/quote/\"+ ticker + \"/profile?p=\" + ticker\n",
    "    response = requests.get(url)\n",
    "    results_page = BeautifulSoup(response.content,'lxml')\n",
    "    summary = results_page.find_all('p',class_=\"Mt(15px) Lh(1.6)\")\n",
    "    if summary == []:\n",
    "        return \"Ticker Error, Please Check if the Ticker is Entered Correctly\"\n",
    "    return summary[0].get_text()"
   ]
  },
  {
   "cell_type": "code",
   "execution_count": 220,
   "metadata": {},
   "outputs": [
    {
     "data": {
      "text/plain": [
       "\"Hewlett Packard Enterprise Company operates as a technology company. The company operates through four segments: Hybrid IT, Intelligent Edge, Financial Services, and Corporate Investments. The Hybrid IT segment provides industry standard servers, as well as mission-critical servers to address the full array of its customers' computing needs; converged storage solutions, including all-flash arrays and hybrid storage solutions; and traditional storage solutions comprising tape, storage networking, and legacy external disk products. It also offers data center networking products, such as top-of-rack switches, core switches, and open networking switches; and operational services, advisory and professional services, and communications and media solutions. The Intelligent Edge segment provides software-defined Aruba mobile first architecture solutions for connectivity in the campus and branch environments, including wireless local area network equipment, mobility and security software, switches, routers, network management products, and associated customer support, as well as industrial IoT solutions. The Financial Services segment offers various flexible investment solutions, which comprise leasing, financing, IT consumption, and utility programs and asset management services for customers to enable the creation of unique technology deployment models and acquire complete IT solutions. The Corporate Investments segment is involved in Hewlett Packard labs and various business incubation activities. The company serves small and medium-sized businesses and large global enterprises. It has a collaboration agreement with ARM and SUSE, as well as the University of Edinburgh, the University of Bristol, the University of Leicester, and the High-Performance Computing Center of the University of Stuttgart. Hewlett Packard Enterprise Company was founded in 1939 and is headquartered in Palo Alto, California.\""
      ]
     },
     "execution_count": 220,
     "metadata": {},
     "output_type": "execute_result"
    }
   ],
   "source": [
    "get_summary(\"HPE\")"
   ]
  },
  {
   "cell_type": "code",
   "execution_count": 99,
   "metadata": {},
   "outputs": [],
   "source": [
    "def get_competitors(stock):\n",
    "    url = 'https://www.nasdaq.com/symbol/' + stock + '/stock-comparison'\n",
    "\n",
    "    response = requests.get(url)\n",
    "    results_page = BeautifulSoup(response.content, 'lxml')\n",
    "    table = results_page.find('div', class_='genTable thin')\n",
    "    competitors = list()\n",
    "    for i in range(4):\n",
    "        competitors.append(table.find_all('input')[i].get('value'))\n",
    "    \n",
    "    return competitors"
   ]
  },
  {
   "cell_type": "code",
   "execution_count": 161,
   "metadata": {},
   "outputs": [
    {
     "name": "stdout",
     "output_type": "stream",
     "text": [
      "https://finance.yahoo.com/quote/HPE/key-statistics?p=HPE\n"
     ]
    },
    {
     "data": {
      "text/plain": [
       "[('Market Cap (intraday)', '22.25B'),\n",
       " ('Enterprise Value', '28.87B'),\n",
       " ('Trailing P/E', '7.56'),\n",
       " ('Forward P/E', '9.51'),\n",
       " ('PEG Ratio (5 yr expected)', '-1.25'),\n",
       " ('Price/Sales', '0.73'),\n",
       " ('Price/Book', '0.96'),\n",
       " ('Enterprise Value/Revenue', '0.94'),\n",
       " ('Enterprise Value/EBITDA', '9.50'),\n",
       " ('Fiscal Year Ends', 'Oct 31, 2017'),\n",
       " ('Most Recent Quarter', 'Jul 31, 2018'),\n",
       " ('Profit Margin', '10.43%'),\n",
       " ('Operating Margin', '3.12%'),\n",
       " ('Return on Assets', '0.93%'),\n",
       " ('Return on Equity', '12.04%'),\n",
       " ('Revenue', '30.57B'),\n",
       " ('Revenue Per Share', '19.49'),\n",
       " ('Quarterly Revenue Growth', '3.50%'),\n",
       " ('Gross Profit', '8.69B'),\n",
       " ('EBITDA', '3.04B'),\n",
       " ('Net Income Avi to Common', '3.16B'),\n",
       " ('Diluted EPS', '2.00'),\n",
       " ('Quarterly Earnings Growth', '173.30%'),\n",
       " ('Total Cash', '5.19B'),\n",
       " ('Total Cash Per Share', '3.53'),\n",
       " ('Total Debt', '12.63B'),\n",
       " ('Total Debt/Equity', '53.81'),\n",
       " ('Current Ratio', '1.00'),\n",
       " ('Book Value Per Share', '15.81'),\n",
       " ('Operating Cash Flow', '2.02B'),\n",
       " ('Levered Free Cash Flow', '1.84B'),\n",
       " ('Beta (3Y Monthly)', '1.60'),\n",
       " ('52-Week Change', '10.82%'),\n",
       " ('S&P500 52-Week Change', '3.63%'),\n",
       " ('52 Week High', '19.48'),\n",
       " ('52 Week Low', '13.75'),\n",
       " ('50-Day Moving Average', '15.30'),\n",
       " ('200-Day Moving Average', '15.83'),\n",
       " ('Avg Vol (3 month)', '10.62M'),\n",
       " ('Avg Vol (10 day)', '9.49M'),\n",
       " ('Shares Outstanding', '1.47B'),\n",
       " ('Float', '1.47B'),\n",
       " ('% Held by Insiders', '0.20%'),\n",
       " ('% Held by Institutions', '82.03%'),\n",
       " ('Shares Short (Oct 31, 2018)', '25.74M'),\n",
       " ('Short Ratio (Oct 31, 2018)', '2.72'),\n",
       " ('Short % of Float (Oct 31, 2018)', '1.90%'),\n",
       " ('Short % of Shares Outstanding (Oct 31, 2018)', '1.75%'),\n",
       " ('Shares Short (prior month Sep 28, 2018)', '25.02M'),\n",
       " ('Forward Annual Dividend Rate', '0.45'),\n",
       " ('Forward Annual Dividend Yield', '3.09%'),\n",
       " ('Trailing Annual Dividend Rate', '0.33'),\n",
       " ('Trailing Annual Dividend Yield', '2.12%'),\n",
       " ('5 Year Average Dividend Yield', 'N/A'),\n",
       " ('Payout Ratio', 'Jan 2, 2019'),\n",
       " ('Dividend Date', 'Dec 11, 2018'),\n",
       " ('Ex-Dividend Date', '1000/1289'),\n",
       " ('Last Split Factor (new per old)', 'Sep 1, 2017')]"
      ]
     },
     "execution_count": 161,
     "metadata": {},
     "output_type": "execute_result"
    }
   ],
   "source": [
    "get_financial_stats(\"HPE\")"
   ]
  },
  {
   "cell_type": "code",
   "execution_count": 79,
   "metadata": {},
   "outputs": [
    {
     "name": "stdout",
     "output_type": "stream",
     "text": [
      "[('Market Cap (intraday)', '838.89B'), ('Enterprise Value', '966.56B'), ('Trailing P/E', '14.84'), ('Forward P/E', '11.93'), ('PEG Ratio (5 yr expected)', '1.01'), ('Price/Sales', '3.16'), ('Price/Book', '7.85'), ('Enterprise Value/Revenue', '3.64'), ('Enterprise Value/EBITDA', '11.82'), ('Fiscal Year Ends', 'Sep 29, 2018'), ('Most Recent Quarter', 'Sep 29, 2018'), ('Profit Margin', '22.41%'), ('Operating Margin', '26.69%'), ('Return on Assets', '11.96%'), ('Return on Equity', '49.36%'), ('Revenue', '265.59B'), ('Revenue Per Share', '53.60'), ('Quarterly Revenue Growth', '19.60%'), ('Gross Profit', '101.84B'), ('EBITDA', '81.8B'), ('Net Income Avi to Common', '59.53B'), ('Diluted EPS', '11.91'), ('Quarterly Earnings Growth', '31.80%'), ('Total Cash', '66.3B'), ('Total Cash Per Share', '13.97'), ('Total Debt', '114.48B'), ('Total Debt/Equity', '106.85'), ('Current Ratio', '1.12'), ('Book Value Per Share', '22.53'), ('Operating Cash Flow', '77.43B'), ('Levered Free Cash Flow', '48.42B'), ('Beta (3Y Monthly)', '1.21'), ('52-Week Change', '1.15%'), ('S&P500 52-Week Change', '1.73%'), ('52 Week High', '233.47'), ('52 Week Low', '150.24'), ('50-Day Moving Average', '211.98'), ('200-Day Moving Average', '203.72'), ('Avg Vol (3 month)', '37.03M'), ('Avg Vol (10 day)', '50.27M'), ('Shares Outstanding', '4.75B'), ('Float', '4.62B'), ('% Held by Insiders', '0.07%'), ('% Held by Institutions', '61.16%'), ('Shares Short (Oct 31, 2018)', '36.47M'), ('Short Ratio (Oct 31, 2018)', '1.06'), ('Short % of Float (Oct 31, 2018)', '0.72%'), ('Short % of Shares Outstanding (Oct 31, 2018)', '0.77%'), ('Shares Short (prior month Sep 28, 2018)', '40.2M'), ('Forward Annual Dividend Rate', '2.92'), ('Forward Annual Dividend Yield', '1.51%'), ('Trailing Annual Dividend Rate', '2.72'), ('Trailing Annual Dividend Yield', '1.54%'), ('5 Year Average Dividend Yield', '1.73'), ('Payout Ratio', '22.84%'), ('Dividend Date', 'Nov 15, 2018'), ('Ex-Dividend Date', 'Nov 8, 2018'), ('Last Split Factor (new per old)', '7/1'), ('Last Split Date', 'Jun 9, 2014')]\n"
     ]
    }
   ],
   "source": [
    "#extract financial stats for a stock\n",
    "url = \"https://finance.yahoo.com/quote/AAPL/key-statistics?p=AAPL\"\n",
    "response = requests.get(url)\n",
    "results_page = BeautifulSoup(response.content,'lxml')\n",
    "stats_lists = results_page.find_all('table')\n",
    "test_list = list()\n",
    "for i in stats_lists:\n",
    "        stat_name = i.find_all('span')\n",
    "        stock_stat = i.find_all('td',class_='Fz(s) Fw(500) Ta(end)')\n",
    "        for j in range(len(stat_name)):\n",
    "            test_list.append((stat_name[j].get_text(),stock_stat[j].get_text()))\n",
    "print(test_list)\n"
   ]
  },
  {
   "cell_type": "code",
   "execution_count": 70,
   "metadata": {},
   "outputs": [
    {
     "data": {
      "text/plain": [
       "[['Apple Is In Talks to Give Veterans Access to Electronic Medical Records 3rd Update DJ Business New',\n",
       "  'https://eresearch.fidelity.com/eresearch/evaluate/news/basicNewsStory.jhtml?symbols=AAPL&storyid=201811211543DOWJONESDJONLINE000307&provider=DOWJONES&product=DJONLINE&sb=1'],\n",
       " ['US STOCKS Wall St climbs as tech internet stocks bounce back Reuter',\n",
       "  'https://eresearch.fidelity.com/eresearch/evaluate/news/basicNewsStory.jhtml?symbols=AAPL&storyid=201811211537RTRSNEWSCOMBINED_L2N1XW1HB_1&provider=RTRSNEWS&product=COMBINED&sb=1'],\n",
       " ['BRIEF Apple Considered New Connected TV Dongle The Information Reuter',\n",
       "  'https://eresearch.fidelity.com/eresearch/evaluate/news/basicNewsStory.jhtml?symbols=AAPL&storyid=201811211529RTRSNEWSCOMBINED_FWN1XW0O4_1&provider=RTRSNEWS&product=COMBINED&sb=1'],\n",
       " ['GLOBAL MARKETS Stocks rise on tech strength oil bounces back from rout Reuter',\n",
       "  'https://eresearch.fidelity.com/eresearch/evaluate/news/basicNewsStory.jhtml?symbols=AAPL&storyid=201811211438RTRSNEWSCOMBINED_L2N1XW155_1&provider=RTRSNEWS&product=COMBINED&sb=1'],\n",
       " ['US STOCKS Wall Street recovers as technology stocks bounce back Reuter',\n",
       "  'https://eresearch.fidelity.com/eresearch/evaluate/news/basicNewsStory.jhtml?symbols=AAPL&storyid=201811211306RTRSNEWSCOMBINED_L4N1XW4H4_1&provider=RTRSNEWS&product=COMBINED&sb=1']]"
      ]
     },
     "execution_count": 70,
     "metadata": {},
     "output_type": "execute_result"
    }
   ],
   "source": [
    "#extracting related news to the stock\n",
    "\n",
    "url = \"https://eresearch.fidelity.com/eresearch/evaluate/snapshot.jhtml?symbols=AAPL\"\n",
    "response = requests.get(url)\n",
    "results_page = BeautifulSoup(response.content,'lxml')\n",
    "summary = results_page.find_all('li',class_ = \"news-item\")\n",
    "newslist = list()\n",
    "import re\n",
    "for i in summary:\n",
    "    newstext = re.sub('[^A-Za-z0-9]+', ' ', i.get_text())\n",
    "    newsurl = \"https://eresearch.fidelity.com\" + i.find_all('a')[1].get('href')\n",
    "    newslist.append([newstext[1:re.search(\" ET \",newstext).span()[0] - 9],newsurl])\n",
    "newslist\n"
   ]
  },
  {
   "cell_type": "code",
   "execution_count": 80,
   "metadata": {},
   "outputs": [],
   "source": [
    "def get_recent_news(ticker):\n",
    "    url = \"https://eresearch.fidelity.com/eresearch/evaluate/snapshot.jhtml?symbols=\" + ticker\n",
    "    response = requests.get(url)\n",
    "    results_page = BeautifulSoup(response.content,'lxml')\n",
    "    summary = results_page.find_all('li',class_ = \"news-item\")\n",
    "    newslist = list()\n",
    "    import re\n",
    "    for i in summary:\n",
    "        newstext = re.sub('[^A-Za-z0-9]+', ' ', i.get_text())\n",
    "        newsurl = \"https://eresearch.fidelity.com\" + i.find_all('a')[1].get('href')\n",
    "        newslist.append([newstext[1:re.search(r'(\\d{2}) (\\d{2}) 2018',newstext).span()[0]],newsurl])\n",
    "    return newslist"
   ]
  },
  {
   "cell_type": "code",
   "execution_count": 82,
   "metadata": {},
   "outputs": [
    {
     "data": {
      "text/plain": [
       "[['HP Inc tops revenue estimates on growth in personal systems business Reuters 4 38 PM ET ',\n",
       "  'https://eresearch.fidelity.com/eresearch/evaluate/news/basicNewsStory.jhtml?symbols=HPQ&storyid=201811291638RTRSNEWSCOMBINED_L4N1Y45MY_1&provider=RTRSNEWS&product=COMBINED&sb=1'],\n",
       " ['HP stock rises on fiscal Q4 beat MarketWatch 4 27 PM ET ',\n",
       "  'https://eresearch.fidelity.com/eresearch/evaluate/news/basicNewsStory.jhtml?symbols=HPQ&storyid=201811291627MRKTWTCHNEWS_SVC000508&provider=MRKTWTCH&product=NEWS_SVC&sb=1'],\n",
       " ['Form 8 K HP INC For Nov 29 EDGAR SEC Filings 4 24 PM ET ',\n",
       "  'https://eresearch.fidelity.com/eresearch/evaluate/news/basicNewsStory.jhtml?symbols=HPQ&storyid=201811291624TENKWIZ_SECEDGAR_A8ZZO222Z222V2Z2222L22ZZN8UAZBA72HA2&provider=TENKWIZ_&product=SECEDGAR&sb=1'],\n",
       " ['HP Inc quarterly revenue beats estimates Reuters 4 19 PM ET ',\n",
       "  'https://eresearch.fidelity.com/eresearch/evaluate/news/basicNewsStory.jhtml?symbols=HPQ&storyid=201811291619RTRSNEWSCOMBINED_L4N1Y45KK_1&provider=RTRSNEWS&product=COMBINED&sb=1'],\n",
       " ['HP Profit Surges as PC Business Remains Strong DJ Business News 4 19 PM ET ',\n",
       "  'https://eresearch.fidelity.com/eresearch/evaluate/news/basicNewsStory.jhtml?symbols=HPQ&storyid=201811291619DOWJONESDJONLINE000366&provider=DOWJONES&product=DJONLINE&sb=1']]"
      ]
     },
     "execution_count": 82,
     "metadata": {},
     "output_type": "execute_result"
    }
   ],
   "source": [
    "get_recent_news(\"HPQ\")"
   ]
  },
  {
   "cell_type": "code",
   "execution_count": 27,
   "metadata": {},
   "outputs": [
    {
     "data": {
      "text/plain": [
       "{'Earnings Estimate':   Earnings Estimate  Current Qtr. (Dec 2018)  Next Qtr. (Mar 2019)  \\\n",
       " 0   No. of Analysts                    39.00                 24.00   \n",
       " 1     Avg. Estimate                     0.24                  0.91   \n",
       " 2      Low Estimate                     0.17                  0.62   \n",
       " 3     High Estimate                     0.32                  1.33   \n",
       " 4      Year Ago EPS                     0.41                  0.64   \n",
       " \n",
       "    Current Year (2018)  Next Year (2019)  \n",
       " 0                42.00             44.00  \n",
       " 1                 2.66              4.20  \n",
       " 2                 2.55              2.26  \n",
       " 3                 3.20              6.40  \n",
       " 4                 1.25              2.66  ,\n",
       " 'Revenue Estimate':           Revenue Estimate Current Qtr. (Dec 2018) Next Qtr. (Mar 2019)  \\\n",
       " 0          No. of Analysts                      38                   22   \n",
       " 1            Avg. Estimate                   4.21B                4.61B   \n",
       " 2             Low Estimate                   4.18B                4.41B   \n",
       " 3            High Estimate                    4.3B                4.92B   \n",
       " 4           Year Ago Sales                   3.29B                 3.7B   \n",
       " 5  Sales Growth (year/est)                  28.10%               24.50%   \n",
       " \n",
       "   Current Year (2018) Next Year (2019)  \n",
       " 0                  39               41  \n",
       " 1              15.82B            19.9B  \n",
       " 2              15.79B           19.07B  \n",
       " 3               15.9B           20.98B  \n",
       " 4              11.69B           15.82B  \n",
       " 5              35.30%           25.80%  ,\n",
       " 'Earnings History':   Earnings History 12/30/2017 3/30/2018 6/29/2018 9/29/2018\n",
       " 0         EPS Est.       0.41      0.64      0.79      0.68\n",
       " 1       EPS Actual       0.41      0.64      0.85      0.89\n",
       " 2       Difference          0         0      0.06      0.21\n",
       " 3       Surprise %      0.00%     0.00%     7.60%    30.90%,\n",
       " 'EPS Trend':           EPS Trend  Current Qtr. (Dec 2018)  Next Qtr. (Mar 2019)  \\\n",
       " 0  Current Estimate                     0.24                  0.91   \n",
       " 1        7 Days Ago                     0.24                  0.92   \n",
       " 2       30 Days Ago                     0.24                  0.92   \n",
       " 3       60 Days Ago                     0.50                  1.09   \n",
       " 4       90 Days Ago                     0.51                  1.09   \n",
       " \n",
       "    Current Year (2018)  Next Year (2019)  \n",
       " 0                 2.66              4.20  \n",
       " 1                 2.66              4.20  \n",
       " 2                 2.66              4.19  \n",
       " 3                 2.69              4.38  \n",
       " 4                 2.69              4.36  ,\n",
       " 'EPS Revisions':        EPS Revisions  Current Qtr. (Dec 2018)  Next Qtr. (Mar 2019)  \\\n",
       " 0     Up Last 7 Days                      1.0                   NaN   \n",
       " 1    Up Last 30 Days                      1.0                   NaN   \n",
       " 2   Down Last 7 Days                      NaN                   NaN   \n",
       " 3  Down Last 30 Days                      1.0                   2.0   \n",
       " \n",
       "    Current Year (2018)  Next Year (2019)  \n",
       " 0                  1.0               NaN  \n",
       " 1                  1.0               NaN  \n",
       " 2                  NaN               NaN  \n",
       " 3                  1.0               2.0  ,\n",
       " 'Growth Estimates':            Growth Estimates     NFLX  Industry  Sector  S&P 500\n",
       " 0              Current Qtr.  -41.50%       NaN     NaN     0.48\n",
       " 1                 Next Qtr.   42.20%       NaN     NaN     0.40\n",
       " 2              Current Year  112.80%       NaN     NaN     0.21\n",
       " 3                 Next Year   57.90%       NaN     NaN     0.10\n",
       " 4  Next 5 Years (per annum)   61.80%       NaN     NaN     0.11\n",
       " 5  Past 5 Years (per annum)   50.14%       NaN     NaN      NaN}"
      ]
     },
     "execution_count": 27,
     "metadata": {},
     "output_type": "execute_result"
    }
   ],
   "source": [
    "#!source activate py36;pip install pandas-datareader --upgrade\n",
    "#!pip install stockstats\n",
    "from pandas_datareader import data as web\n",
    "from stockstats import StockDataFrame as Sdf\n",
    "import datetime\n",
    "start=datetime.datetime(2000, 1, 1)\n",
    "end=datetime.datetime.today()\n",
    "\n",
    "#df = web.DataReader('IBM',\"yahoo\")\n",
    "#df\n",
    "stock = web.get_data_yahoo('SPY')\n",
    "stock_df = Sdf.retype(stock)\n",
    "stock['rsi']=stock_df['rsi_14']\n",
    "stock_df\n",
    "#!pip install yahoo_fin.stock_info\n",
    "\n",
    "#use yahoo_fin to extract key financial information from yahoo finance\n",
    "from yahoo_fin import stock_info as si\n",
    "df = si.get_quote_table('aapl')\n",
    "df\n",
    "df2 = si.get_income_statement(\"AAPL\")\n",
    "df2\n",
    "df3 = si.get_analysts_info('nflx')\n",
    "df3"
   ]
  },
  {
   "cell_type": "code",
   "execution_count": 10,
   "metadata": {},
   "outputs": [
    {
     "ename": "SyntaxError",
     "evalue": "invalid syntax (<ipython-input-10-a124f31ae89b>, line 7)",
     "output_type": "error",
     "traceback": [
      "\u001b[0;36m  File \u001b[0;32m\"<ipython-input-10-a124f31ae89b>\"\u001b[0;36m, line \u001b[0;32m7\u001b[0m\n\u001b[0;31m    getFinancials(Symbol, env = .GlobalEnv, src = \"google\",\u001b[0m\n\u001b[0m                                ^\u001b[0m\n\u001b[0;31mSyntaxError\u001b[0m\u001b[0;31m:\u001b[0m invalid syntax\n"
     ]
    }
   ],
   "source": [
    "\n"
   ]
  },
  {
   "cell_type": "code",
   "execution_count": null,
   "metadata": {},
   "outputs": [],
   "source": []
  }
 ],
 "metadata": {
  "kernelspec": {
   "display_name": "Python 3",
   "language": "python",
   "name": "python3"
  },
  "language_info": {
   "codemirror_mode": {
    "name": "ipython",
    "version": 3
   },
   "file_extension": ".py",
   "mimetype": "text/x-python",
   "name": "python",
   "nbconvert_exporter": "python",
   "pygments_lexer": "ipython3",
   "version": "3.6.3"
  }
 },
 "nbformat": 4,
 "nbformat_minor": 2
}
