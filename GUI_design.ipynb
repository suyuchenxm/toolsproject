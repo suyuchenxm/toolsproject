{
 "cells": [
  {
   "cell_type": "code",
   "execution_count": null,
   "metadata": {},
   "outputs": [],
   "source": [
    "from tkinter import *\n",
    "\n",
    "class User_InterFace(Frame):\n",
    "    def __init__(self,root):\n",
    "        Frame.__init__(self,root)\n",
    "        self.user_input=StringVar()\n",
    "        self.user_ouput=StringVar()\n",
    "        \n",
    "        self.label_1=Label(self,text=\"Enter a company: \")\n",
    "        self.entry_box=Entry(self,textvariable=self.user_input)\n",
    "        self.cfm_button=Button(self,text=\"confirm\",command=self.get_input)\n",
    "        \n",
    "        self.label_1.grid(row=0,column=0)\n",
    "        self.entry_box.grid(row=0,column=1)\n",
    "        self.cfm_button.grid(row=1,column=1)\n",
    "        \n",
    "    def get_input(self):\n",
    "        self.user_output=self.user_input\n",
    "        return self.user_ouput\n",
    "        \n",
    "    \n",
    "    \n",
    "root=Tk()\n",
    "frameA=User_InterFace(root)\n",
    "frameA.grid(row=0,column=0)\n",
    "root.mainloop()"
   ]
  }
 ],
 "metadata": {
  "kernelspec": {
   "display_name": "Python 3",
   "language": "python",
   "name": "python3"
  },
  "language_info": {
   "codemirror_mode": {
    "name": "ipython",
    "version": 3
   },
   "file_extension": ".py",
   "mimetype": "text/x-python",
   "name": "python",
   "nbconvert_exporter": "python",
   "pygments_lexer": "ipython3",
   "version": "3.6.3"
  }
 },
 "nbformat": 4,
 "nbformat_minor": 2
}
