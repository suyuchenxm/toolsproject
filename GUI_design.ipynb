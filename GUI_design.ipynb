{
 "cells": [
  {
   "cell_type": "code",
   "execution_count": 47,
   "metadata": {},
   "outputs": [],
   "source": [
    "from tkinter import *\n",
    "\n",
    "class User_InterFace(Frame):\n",
    "    def __init__(self,root,controller):\n",
    "        Frame.__init__(self,root,width=300,height=1000)\n",
    "        self.user_input=StringVar()\n",
    "        self.user_ouput=StringVar()\n",
    "        self.stocklist=stocklist\n",
    "        #CREATE ATTRIBUTES FOR THIS INTERFACE\n",
    "        self.title_1=Label(self,text=\"Welcome to Finance SuperMAN!\")\n",
    "        self.entry_label=Label(self,text=\"Enter a company: \")\n",
    "        self.entry_box=Entry(self,textvariable=self.user_input)\n",
    "        self.option1=Checkbutton(self,text='show 1')\n",
    "        self.option2=Checkbutton(self,text='show 2')\n",
    "        self.option3=Checkbutton(self,text='show 3')\n",
    "        self.option4=Checkbutton(self,text='show 4')\n",
    "        self.option5=Checkbutton(self,text='show all')\n",
    "        self.confirmButton=Button(self,text=\"confirm\",command=self.get_input(stocklist))\n",
    "        #LAYOUTS THE WIDGETS\n",
    "        self.title_1.grid(row=0,sticky=W)\n",
    "        self.entry_label.grid(row=3,column=0,sticky=W)\n",
    "        self.entry_box.grid(row=3,column=3,columnspan=2)\n",
    "        self.option1.grid(row=5,column=3,sticky=W)\n",
    "        self.option2.grid(row=6,column=3,sticky=W)\n",
    "        self.option3.grid(row=7,column=3,sticky=W)\n",
    "        self.option4.grid(row=8,column=3,sticky=W)\n",
    "        self.option5.grid(row=9,column=3,sticky=W)\n",
    "        self.confirmButton.grid(row=16,column=4,sticky=E)\n",
    "        \n",
    "    @property\n",
    "    def get_input(self):\n",
    "        return self._user_input\n",
    "    @get_input.setter  \n",
    "    def get_input(self):\n",
    "        \n",
    "        self._user_output=self.user_input\n",
    "        return self.user_ouput\n",
    "    \n",
    "#create a blank window, a object called root    \n",
    "root=Tk()\n",
    "#create a user interface object call frameA\n",
    "\n",
    "frameA=User_InterFace(root,)\n",
    "frameA.grid(row=0,column=0)\n",
    "#hold the window continue in the screen\n",
    "root.mainloop()"
   ]
  },
  {
   "cell_type": "code",
   "execution_count": 61,
   "metadata": {},
   "outputs": [
    {
     "ename": "TypeError",
     "evalue": "__init__() missing 2 required positional arguments: 'root' and 'controller'",
     "output_type": "error",
     "traceback": [
      "\u001b[0;31m---------------------------------------------------------------------------\u001b[0m",
      "\u001b[0;31mTypeError\u001b[0m                                 Traceback (most recent call last)",
      "\u001b[0;32m<ipython-input-61-76cf9870e751>\u001b[0m in \u001b[0;36m<module>\u001b[0;34m()\u001b[0m\n\u001b[1;32m     33\u001b[0m \u001b[0;31m#create a user interface object call frameA\u001b[0m\u001b[0;34m\u001b[0m\u001b[0;34m\u001b[0m\u001b[0m\n\u001b[1;32m     34\u001b[0m \u001b[0;34m\u001b[0m\u001b[0m\n\u001b[0;32m---> 35\u001b[0;31m \u001b[0mframeA\u001b[0m\u001b[0;34m=\u001b[0m\u001b[0mUser_InterFace\u001b[0m\u001b[0;34m(\u001b[0m\u001b[0;34m)\u001b[0m\u001b[0;34m\u001b[0m\u001b[0m\n\u001b[0m\u001b[1;32m     36\u001b[0m \u001b[0mframeA\u001b[0m\u001b[0;34m.\u001b[0m\u001b[0mgrid\u001b[0m\u001b[0;34m(\u001b[0m\u001b[0mrow\u001b[0m\u001b[0;34m=\u001b[0m\u001b[0;36m0\u001b[0m\u001b[0;34m,\u001b[0m\u001b[0mcolumn\u001b[0m\u001b[0;34m=\u001b[0m\u001b[0;36m0\u001b[0m\u001b[0;34m)\u001b[0m\u001b[0;34m\u001b[0m\u001b[0m\n\u001b[1;32m     37\u001b[0m \u001b[0;31m#hold the window continue in the screen\u001b[0m\u001b[0;34m\u001b[0m\u001b[0;34m\u001b[0m\u001b[0m\n",
      "\u001b[0;31mTypeError\u001b[0m: __init__() missing 2 required positional arguments: 'root' and 'controller'"
     ]
    }
   ],
   "source": [
    "from tkinter import *\n",
    "\n",
    "class User_InterFace(Frame):\n",
    "    def __init__(self,root,controller):\n",
    "        Frame.__init__(self,root,width=300,height=1000)\n",
    "        self.user_input=StringVar()\n",
    "        self._user_ouput=StringVar()\n",
    "        self.stocklist=stocklist\n",
    "        #CREATE ATTRIBUTES FOR THIS INTERFACE\n",
    "        self.title_1=Label(self,text=\"Welcome to Finance SuperMAN!\")\n",
    "        self.entry_label=Label(self,text=\"Enter a company: \")\n",
    "        self.entry_box=Entry(self,textvariable=self.user_input)\n",
    "        self.confirmButton=Button(self,text=\"confirm\",command=self.get_input(stocklist,user_input))\n",
    "        #LAYOUTS THE WIDGETS\n",
    "        self.title_1.grid(row=0,sticky=W)\n",
    "        self.entry_label.grid(row=3,column=0,sticky=W)\n",
    "        self.entry_box.grid(row=3,column=3,columnspan=2)\n",
    "        self.confirmButton.grid(row=16,column=4,sticky=E)\n",
    "        \n",
    "    @property\n",
    "    def get_input(self):\n",
    "        return self._user_output.get()\n",
    "    @get_input.setter  \n",
    "    def get_input(self,lst,ipt):\n",
    "        ipt=ipt.get()\n",
    "        if ipt in lst:          \n",
    "            self._user_output=self.user_input\n",
    "        else:\n",
    "            print('sorry, we could not find '+str(ipt))\n",
    "    \n",
    "#create a blank window, a object called root    \n",
    "root=Tk()\n",
    "#create a user interface object call frameA\n",
    "\n",
    "frameA=User_InterFace()\n",
    "frameA.grid(row=0,column=0)\n",
    "#hold the window continue in the screen\n",
    "root.mainloop()"
   ]
  },
  {
   "cell_type": "code",
   "execution_count": 5,
   "metadata": {},
   "outputs": [],
   "source": [
    "#building a container for the app\n",
    "import tkinter as tk\n",
    "class FinHero(tk.Tk):\n",
    "    def __init__(self, *args, **kwargs):\n",
    "        tk.Tk.__init__(self,*args, **kwargs)\n",
    "        app =tk.Frame(self)\n",
    "        app.pack(side='top',fill='both',expand=True)\n",
    "        app.grid_rowconfigure(0,weight=1)\n",
    "        app.grid_columnconfigure(0,weight=1)\n",
    "        #store two windows into a dict called pages\n",
    "        self.pages=dict()\n",
    "        page=User_InterFace(app,self)\n",
    "        self.pages[User_InterFace]=page\n",
    "        page.grid(row=0,column=0)\n",
    "        self.show(User_InterFace)\n",
    "    \n",
    "    \n",
    "    def show(self,page_tag):\n",
    "        page=self.pages[page_tag]\n",
    "        page.tkraise()"
   ]
  },
  {
   "cell_type": "code",
   "execution_count": 24,
   "metadata": {},
   "outputs": [
    {
     "name": "stdout",
     "output_type": "stream",
     "text": [
      "BIDU\n",
      "BIDU\n"
     ]
    }
   ],
   "source": [
    "class User_InterFace(tk.Frame):\n",
    "    def __init__(self,parent,controller):\n",
    "        tk.Frame.__init__(self,parent)\n",
    "        self.user_input=tk.StringVar()\n",
    "        self._user_output=tk.StringVar()\n",
    "        self.stockdict={'Baidu':'BIDU','Amazon':'AMNZ'}\n",
    "        self._firmCode=tk.StringVar()\n",
    "       # self.stocklist=stocklist\n",
    "#         #CREATE ATTRIBUTES FOR THIS INTERFACE\n",
    "        self.title_1=tk.Label(self,text=\"Welcome to Finance SuperMAN!\")\n",
    "        self.entry_label=tk.Label(self,text=\"Enter a company: \")\n",
    "        self.entry_box=tk.Entry(self,textvariable=self.user_input)\n",
    "        self.confirmButton=tk.Button(self,text=\"confirm\",\n",
    "                                     command=lambda: self.check_input(self.user_input))\n",
    "        #LAYOUTS THE WIDGETS\n",
    "        self.title_1.grid(row=0,sticky='W')\n",
    "        self.entry_label.grid(row=3,column=0,sticky='W')\n",
    "        self.entry_box.grid(row=3,column=3,columnspan=2)\n",
    "        self.confirmButton.grid(row=16,column=4,sticky='E')\n",
    "    \n",
    "    def get_firmCode(self):\n",
    "         return self._firmCode\n",
    "      \n",
    "    def check_input(self,ipt):\n",
    "        ref=self.stockdict\n",
    "        ipt=ipt.get()\n",
    "        if ipt in ref.keys():          \n",
    "            self._firmCode=ref[ipt]\n",
    "            print(self._firmCode)\n",
    "        else:\n",
    "            print('sorry, we could not find '+str(ipt))\n",
    "    \n",
    "mainproj=FinHero()\n",
    "mainproj.mainloop()"
   ]
  },
  {
   "cell_type": "code",
   "execution_count": null,
   "metadata": {},
   "outputs": [],
   "source": [
    "class OutputPage()\n",
    "    def __init__(self,parent,controller):\n",
    "        tk.Frame.__init__(self,parent)\n",
    "        test=tk.Label(self,text='This is a test'+self.)"
   ]
  }
 ],
 "metadata": {
  "kernelspec": {
   "display_name": "Python 3",
   "language": "python",
   "name": "python3"
  },
  "language_info": {
   "codemirror_mode": {
    "name": "ipython",
    "version": 3
   },
   "file_extension": ".py",
   "mimetype": "text/x-python",
   "name": "python",
   "nbconvert_exporter": "python",
   "pygments_lexer": "ipython3",
   "version": "3.7.0"
  }
 },
 "nbformat": 4,
 "nbformat_minor": 2
}
