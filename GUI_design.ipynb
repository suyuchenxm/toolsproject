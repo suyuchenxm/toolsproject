{
 "cells": [
  {
   "cell_type": "code",
   "execution_count": null,
   "metadata": {},
   "outputs": [],
   "source": [
    "from tkinter import *\n",
    "User_InterFace=Tk()\n",
    "\n",
    "label_1=Label(User_InterFace,text='Please enter a name of company:')\n",
    "user_entry=Entry(User_InterFace)\n",
    "cfm_button=Button(User_InterFace,text='confirm')\n",
    "\n",
    "label_1.grid(row=0,column=0)\n",
    "user_entry.grid(row=0,column=1)\n",
    "cfm_button.grid(row=1,column=1)\n",
    "User_InterFace.mainloop()"
   ]
  }
 ],
 "metadata": {
  "kernelspec": {
   "display_name": "Python 3",
   "language": "python",
   "name": "python3"
  },
  "language_info": {
   "codemirror_mode": {
    "name": "ipython",
    "version": 3
   },
   "file_extension": ".py",
   "mimetype": "text/x-python",
   "name": "python",
   "nbconvert_exporter": "python",
   "pygments_lexer": "ipython3",
   "version": "3.6.3"
  }
 },
 "nbformat": 4,
 "nbformat_minor": 2
}
