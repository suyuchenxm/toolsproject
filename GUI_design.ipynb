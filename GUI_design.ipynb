{
 "cells": [
  {
   "cell_type": "code",
   "execution_count": 47,
   "metadata": {},
   "outputs": [],
   "source": [
    "from tkinter import *\n",
    "\n",
    "class User_InterFace(Frame):\n",
    "    def __init__(self,root):\n",
    "        Frame.__init__(self,root,width=300,height=1000)\n",
    "        self.user_input=StringVar()\n",
    "        self.user_ouput=StringVar()\n",
    "        #CREATE ATTRIBUTES FOR THIS INTERFACE\n",
    "        self.title_1=Label(self,text=\"Welcome to Finance SuperMAN!\")\n",
    "        self.entry_label=Label(self,text=\"Enter a company: \")\n",
    "        self.entry_box=Entry(self,textvariable=self.user_input)\n",
    "        self.option1=Checkbutton(self,text='show 1')\n",
    "        self.option2=Checkbutton(self,text='show 2')\n",
    "        self.option3=Checkbutton(self,text='show 3')\n",
    "        self.option4=Checkbutton(self,text='show 4')\n",
    "        self.option5=Checkbutton(self,text='show all')\n",
    "        self.confirmButton=Button(self,text=\"confirm\",command=self.get_input)\n",
    "        #LAYOUTS THE WIDGETS\n",
    "        self.title_1.grid(row=0,sticky=W)\n",
    "        self.entry_label.grid(row=3,column=0,sticky=W)\n",
    "        self.entry_box.grid(row=3,column=3,columnspan=2)\n",
    "        self.option1.grid(row=5,column=3,sticky=W)\n",
    "        self.option2.grid(row=6,column=3,sticky=W)\n",
    "        self.option3.grid(row=7,column=3,sticky=W)\n",
    "        self.option4.grid(row=8,column=3,sticky=W)\n",
    "        self.option5.grid(row=9,column=3,sticky=W)\n",
    "        self.confirmButton.grid(row=16,column=4,sticky=E)\n",
    "        \n",
    "    def get_input(self):\n",
    "        self.user_output=self.user_input\n",
    "        return self.user_ouput\n",
    "    \n",
    "#create a blank window, a object called root    \n",
    "root=Tk()\n",
    "#create a user interface object call frameA\n",
    "\n",
    "frameA=User_InterFace(root,)\n",
    "frameA.grid(row=0,column=0)\n",
    "#hold the window continue in the screen\n",
    "root.mainloop()"
   ]
  },
  {
   "cell_type": "code",
   "execution_count": null,
   "metadata": {},
   "outputs": [],
   "source": []
  },
  {
   "cell_type": "code",
   "execution_count": null,
   "metadata": {},
   "outputs": [],
   "source": []
  }
 ],
 "metadata": {
  "kernelspec": {
   "display_name": "Python 3",
   "language": "python",
   "name": "python3"
  },
  "language_info": {
   "codemirror_mode": {
    "name": "ipython",
    "version": 3
   },
   "file_extension": ".py",
   "mimetype": "text/x-python",
   "name": "python",
   "nbconvert_exporter": "python",
   "pygments_lexer": "ipython3",
   "version": "3.7.0"
  }
 },
 "nbformat": 4,
 "nbformat_minor": 2
}
