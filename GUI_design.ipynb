{
 "cells": [
  {
   "cell_type": "code",
   "execution_count": null,
   "metadata": {},
   "outputs": [
    {
     "name": "stdout",
     "output_type": "stream",
     "text": [
      "BIDU\n"
     ]
    }
   ],
   "source": [
    "from tkinter import *\n",
    "\n",
    "class User_InterFace(Frame):\n",
    "    def __init__(self,root):\n",
    "        Frame.__init__(self,root,width=300,height=1000)\n",
    "        self.user_input=StringVar()\n",
    "        self.user_ouput=StringVar()\n",
    "        self.stockdict={'Baidu':'BIDU','AMAZON':'AMAZ'}\n",
    "        #CREATE ATTRIBUTES FOR THIS INTERFACE\n",
    "        self.title_1=Label(self,text=\"Welcome to Finance SuperMAN!\")\n",
    "        self.entry_label=Label(self,text=\"Enter a company: \")\n",
    "        self.entry_box=Entry(self,textvariable=self.user_input)\n",
    "        self.option1=Checkbutton(self,text='show 1')\n",
    "        self.option2=Checkbutton(self,text='show 2')\n",
    "        self.option3=Checkbutton(self,text='show 3')\n",
    "        self.option4=Checkbutton(self,text='show 4')\n",
    "        self.option5=Checkbutton(self,text='show all')\n",
    "        self.confirmButton=Button(self,text=\"confirm\",\n",
    "                                  command=lambda:self.check_input(self.user_input))\n",
    "        #LAYOUTS THE WIDGETS\n",
    "        self.title_1.grid(row=0,sticky=W)\n",
    "        self.entry_label.grid(row=3,column=0,sticky=W)\n",
    "        self.entry_box.grid(row=3,column=3,columnspan=2)\n",
    "        self.option1.grid(row=5,column=3,sticky=W)\n",
    "        self.option2.grid(row=6,column=3,sticky=W)\n",
    "        self.option3.grid(row=7,column=3,sticky=W)\n",
    "        self.option4.grid(row=8,column=3,sticky=W)\n",
    "        self.option5.grid(row=9,column=3,sticky=W)\n",
    "        self.confirmButton.grid(row=16,column=4,sticky=E)\n",
    "        \n",
    "    def get_firmCode(self):\n",
    "         return self._firmCode\n",
    "      \n",
    "    def check_input(self,ipt):\n",
    "        ref=self.stockdict\n",
    "        ipt=ipt.get()\n",
    "        if ipt in ref.keys():          \n",
    "            self._firmCode=ref[ipt]\n",
    "            print(self._firmCode)\n",
    "        else:\n",
    "            print('sorry, we could not find '+str(ipt))\n",
    "    \n",
    "#create a blank window, a object called root    \n",
    "root=Tk()\n",
    "#create a user interface object call frameA\n",
    "\n",
    "frameA=User_InterFace(root,)\n",
    "frameA.grid(row=0,column=0)\n",
    "#hold the window continue in the screen\n",
    "root.mainloop()"
   ]
  },
  {
   "cell_type": "code",
   "execution_count": 23,
   "metadata": {},
   "outputs": [],
   "source": [
    "#building a container for the app\n",
    "import tkinter as tk\n",
    "class FinHero(tk.Tk):\n",
    "    def __init__(self, *args, **kwargs):\n",
    "        tk.Tk.__init__(self,*args, **kwargs)\n",
    "        app =tk.Frame(self)\n",
    "        app.pack(side='top',fill='both',expand=True)\n",
    "        app.grid_rowconfigure(0,weight=1)\n",
    "        app.grid_columnconfigure(0,weight=1)\n",
    "        #store two windows into a dict called pages\n",
    "        #page=User_InterFace(app,self)\n",
    "        self.pages=dict()\n",
    "        #self.pages['user_interface']=page\n",
    "        self.pages['output']=OutputPage(app,self)\n",
    "       # OutputPage.grid(row=0,column=0)\n",
    "        #page.grid(row=0,column=0)\n",
    "       #self.show('user_interface')\n",
    "    \n",
    "    \n",
    "    def show(self,page_tag):\n",
    "        page=self.pages[page_tag]\n",
    "        page.tkraise()"
   ]
  },
  {
   "cell_type": "code",
   "execution_count": 24,
   "metadata": {},
   "outputs": [],
   "source": [
    "class OutputPage(tk.Frame):\n",
    "    def __init__(self,parent,controller):\n",
    "        tk.Frame.__init__(self,parent)\n",
    "        self.test=tk.Label(self,text='This is a test')\n",
    "        self.test.pack()\n",
    "        "
   ]
  },
  {
   "cell_type": "code",
   "execution_count": 25,
   "metadata": {},
   "outputs": [
    {
     "ename": "KeyboardInterrupt",
     "evalue": "",
     "output_type": "error",
     "traceback": [
      "\u001b[0;31m---------------------------------------------------------------------------\u001b[0m",
      "\u001b[0;31mKeyboardInterrupt\u001b[0m                         Traceback (most recent call last)",
      "\u001b[0;32m<ipython-input-25-55de7c270e58>\u001b[0m in \u001b[0;36m<module>\u001b[0;34m()\u001b[0m\n\u001b[1;32m      1\u001b[0m \u001b[0ma\u001b[0m\u001b[0;34m=\u001b[0m\u001b[0mFinHero\u001b[0m\u001b[0;34m(\u001b[0m\u001b[0;34m)\u001b[0m\u001b[0;34m\u001b[0m\u001b[0m\n\u001b[0;32m----> 2\u001b[0;31m \u001b[0ma\u001b[0m\u001b[0;34m.\u001b[0m\u001b[0mmainloop\u001b[0m\u001b[0;34m(\u001b[0m\u001b[0;34m)\u001b[0m\u001b[0;34m\u001b[0m\u001b[0m\n\u001b[0m\u001b[1;32m      3\u001b[0m \u001b[0ma\u001b[0m\u001b[0;34m.\u001b[0m\u001b[0mshow\u001b[0m\u001b[0;34m(\u001b[0m\u001b[0;34m'output'\u001b[0m\u001b[0;34m)\u001b[0m\u001b[0;34m\u001b[0m\u001b[0m\n",
      "\u001b[0;32m/anaconda3/lib/python3.7/tkinter/__init__.py\u001b[0m in \u001b[0;36mmainloop\u001b[0;34m(self, n)\u001b[0m\n\u001b[1;32m   1278\u001b[0m     \u001b[0;32mdef\u001b[0m \u001b[0mmainloop\u001b[0m\u001b[0;34m(\u001b[0m\u001b[0mself\u001b[0m\u001b[0;34m,\u001b[0m \u001b[0mn\u001b[0m\u001b[0;34m=\u001b[0m\u001b[0;36m0\u001b[0m\u001b[0;34m)\u001b[0m\u001b[0;34m:\u001b[0m\u001b[0;34m\u001b[0m\u001b[0m\n\u001b[1;32m   1279\u001b[0m         \u001b[0;34m\"\"\"Call the mainloop of Tk.\"\"\"\u001b[0m\u001b[0;34m\u001b[0m\u001b[0m\n\u001b[0;32m-> 1280\u001b[0;31m         \u001b[0mself\u001b[0m\u001b[0;34m.\u001b[0m\u001b[0mtk\u001b[0m\u001b[0;34m.\u001b[0m\u001b[0mmainloop\u001b[0m\u001b[0;34m(\u001b[0m\u001b[0mn\u001b[0m\u001b[0;34m)\u001b[0m\u001b[0;34m\u001b[0m\u001b[0m\n\u001b[0m\u001b[1;32m   1281\u001b[0m     \u001b[0;32mdef\u001b[0m \u001b[0mquit\u001b[0m\u001b[0;34m(\u001b[0m\u001b[0mself\u001b[0m\u001b[0;34m)\u001b[0m\u001b[0;34m:\u001b[0m\u001b[0;34m\u001b[0m\u001b[0m\n\u001b[1;32m   1282\u001b[0m         \u001b[0;34m\"\"\"Quit the Tcl interpreter. All widgets will be destroyed.\"\"\"\u001b[0m\u001b[0;34m\u001b[0m\u001b[0m\n",
      "\u001b[0;31mKeyboardInterrupt\u001b[0m: "
     ]
    }
   ],
   "source": [
    "a=FinHero()\n",
    "a.mainloop()\n",
    "a.show('output')"
   ]
  },
  {
   "cell_type": "code",
   "execution_count": 26,
   "metadata": {},
   "outputs": [
    {
     "ename": "NameError",
     "evalue": "name 'FinHero' is not defined",
     "output_type": "error",
     "traceback": [
      "\u001b[0;31m---------------------------------------------------------------------------\u001b[0m",
      "\u001b[0;31mNameError\u001b[0m                                 Traceback (most recent call last)",
      "\u001b[0;32m<ipython-input-26-bacf50bc4cb9>\u001b[0m in \u001b[0;36m<module>\u001b[0;34m()\u001b[0m\n\u001b[1;32m     34\u001b[0m         \u001b[0mFinHero\u001b[0m\u001b[0;34m.\u001b[0m\u001b[0mshow\u001b[0m\u001b[0;34m(\u001b[0m\u001b[0mFinHero\u001b[0m\u001b[0;34m,\u001b[0m\u001b[0;34m'output'\u001b[0m\u001b[0;34m)\u001b[0m\u001b[0;34m\u001b[0m\u001b[0m\n\u001b[1;32m     35\u001b[0m \u001b[0;34m\u001b[0m\u001b[0m\n\u001b[0;32m---> 36\u001b[0;31m \u001b[0mmainproj\u001b[0m\u001b[0;34m=\u001b[0m\u001b[0mFinHero\u001b[0m\u001b[0;34m(\u001b[0m\u001b[0;34m)\u001b[0m\u001b[0;34m\u001b[0m\u001b[0m\n\u001b[0m\u001b[1;32m     37\u001b[0m \u001b[0mmainproj\u001b[0m\u001b[0;34m.\u001b[0m\u001b[0mmainloop\u001b[0m\u001b[0;34m(\u001b[0m\u001b[0;34m)\u001b[0m\u001b[0;34m\u001b[0m\u001b[0m\n",
      "\u001b[0;31mNameError\u001b[0m: name 'FinHero' is not defined"
     ]
    }
   ],
   "source": [
    "class User_InterFace(tk.Frame):\n",
    "    def __init__(self,parent,controller):\n",
    "        tk.Frame.__init__(self,parent)\n",
    "        self.user_input=tk.StringVar()\n",
    "        self._user_output=tk.StringVar()\n",
    "        self.stockdict={'Baidu':'BIDU','Amazon':'AMNZ'}\n",
    "        self._firmCode=tk.StringVar()\n",
    "       # self.stocklist=stocklist\n",
    "#         #CREATE ATTRIBUTES FOR THIS INTERFACE\n",
    "        self.title_1=tk.Label(self,text=\"Welcome to Finance SuperMAN!\")\n",
    "        self.entry_label=tk.Label(self,text=\"Enter a company: \")\n",
    "        self.entry_box=tk.Entry(self,textvariable=self.user_input)\n",
    "        self.confirmButton=tk.Button(self,text=\"confirm\",\n",
    "                                     command=lambda:self.check_input(self.user_input))\n",
    "        #LAYOUTS THE WIDGETS\n",
    "        self.title_1.grid(row=0,sticky='W')\n",
    "        self.entry_label.grid(row=3,column=0,sticky='W')\n",
    "        self.entry_box.grid(row=3,column=3,columnspan=2)\n",
    "        self.confirmButton.grid(row=16,column=4,sticky='E')\n",
    "    \n",
    "    def get_firmCode(self):\n",
    "         return self._firmCode\n",
    "      \n",
    "    def check_input(self,ipt):\n",
    "        ref=self.stockdict\n",
    "        ipt=ipt.get()\n",
    "        if ipt in ref.keys():          \n",
    "            self._firmCode=ref[ipt]\n",
    "            print(self._firmCode)\n",
    "            self.next_page\n",
    "        else:\n",
    "            print('sorry, we could not find '+str(ipt))\n",
    "    def next_page(self):\n",
    "        FinHero.show(FinHero,'output')\n",
    "    \n",
    "mainproj=FinHero()\n",
    "mainproj.mainloop()"
   ]
  },
  {
   "cell_type": "code",
   "execution_count": 33,
   "metadata": {},
   "outputs": [],
   "source": [
    "from tkinter import *\n",
    "import tkinter as tk\n",
    "\n",
    "class OutputPage(Frame):\n",
    "    def __init__(self,root=None):\n",
    "        Frame.__init__(self,root,width=300,height=300)\n",
    "        self.root=root\n",
    "        #create a menu object\n",
    "        menu=Menu(self.root)\n",
    "        self.root.config(menu=menu)\n",
    "        #add choice 1 button\n",
    "        choice_1=Menu(menu)\n",
    "        choice_1.add_command(label='file',command=self.choice1)\n",
    "        menu.add_cascade(label='action',menu=choice_1)\n",
    "        \n",
    "        self.title_1=Label(self,text=\"Welcome to Finance SuperMAN!\")\n",
    "        #LAYOUTS THE WIDGETS\n",
    "        self.title_1.grid(row=0,sticky='W')\n",
    "    \n",
    "    def choice1(self):\n",
    "        print('this is a test 1')\n",
    "    def choice2(self):\n",
    "        print('this is a test 2')\n",
    "    def choice3(self):\n",
    "        print('this is a test 3')\n",
    "\n",
    "#create a blank window, a object called root    \n",
    "root=Tk()\n",
    "\n",
    "#create a user interface object call frameA\n",
    "\n",
    "frameB=OutputPage(root)\n",
    "frameB.grid(row=0,column=0)\n",
    "#hold the window continue in the screen\n",
    "root.mainloop()"
   ]
  },
  {
   "cell_type": "code",
   "execution_count": null,
   "metadata": {},
   "outputs": [],
   "source": []
  }
 ],
 "metadata": {
  "kernelspec": {
   "display_name": "Python 3",
   "language": "python",
   "name": "python3"
  },
  "language_info": {
   "codemirror_mode": {
    "name": "ipython",
    "version": 3
   },
   "file_extension": ".py",
   "mimetype": "text/x-python",
   "name": "python",
   "nbconvert_exporter": "python",
   "pygments_lexer": "ipython3",
   "version": "3.7.0"
  }
 },
 "nbformat": 4,
 "nbformat_minor": 2
}
