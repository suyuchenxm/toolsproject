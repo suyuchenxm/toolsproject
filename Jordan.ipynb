{
 "cells": [
  {
   "cell_type": "code",
   "execution_count": 1,
   "metadata": {},
   "outputs": [
    {
     "data": {
      "text/html": [
       "<div>\n",
       "<style scoped>\n",
       "    .dataframe tbody tr th:only-of-type {\n",
       "        vertical-align: middle;\n",
       "    }\n",
       "\n",
       "    .dataframe tbody tr th {\n",
       "        vertical-align: top;\n",
       "    }\n",
       "\n",
       "    .dataframe thead th {\n",
       "        text-align: right;\n",
       "    }\n",
       "</style>\n",
       "<table border=\"1\" class=\"dataframe\">\n",
       "  <thead>\n",
       "    <tr style=\"text-align: right;\">\n",
       "      <th></th>\n",
       "      <th>Sector_Change</th>\n",
       "      <th>Market_Capital</th>\n",
       "      <th>Market_Weight</th>\n",
       "    </tr>\n",
       "  </thead>\n",
       "  <tbody>\n",
       "    <tr>\n",
       "      <th>Communication Services</th>\n",
       "      <td>+0.07%</td>\n",
       "      <td>$4.46T</td>\n",
       "      <td>9.80%</td>\n",
       "    </tr>\n",
       "    <tr>\n",
       "      <th>Consumer Discretionary</th>\n",
       "      <td>-0.32%</td>\n",
       "      <td>$4.73T</td>\n",
       "      <td>9.73%</td>\n",
       "    </tr>\n",
       "    <tr>\n",
       "      <th>Consumer Staples</th>\n",
       "      <td>+0.20%</td>\n",
       "      <td>$3.41T</td>\n",
       "      <td>7.50%</td>\n",
       "    </tr>\n",
       "    <tr>\n",
       "      <th>Energy</th>\n",
       "      <td>+0.72%</td>\n",
       "      <td>$3.47T</td>\n",
       "      <td>5.51%</td>\n",
       "    </tr>\n",
       "    <tr>\n",
       "      <th>Financials</th>\n",
       "      <td>-0.72%</td>\n",
       "      <td>$7.16T</td>\n",
       "      <td>13.82%</td>\n",
       "    </tr>\n",
       "    <tr>\n",
       "      <th>Health Care</th>\n",
       "      <td>+0.60%</td>\n",
       "      <td>$5.66T</td>\n",
       "      <td>15.61%</td>\n",
       "    </tr>\n",
       "    <tr>\n",
       "      <th>Industrials</th>\n",
       "      <td>-0.03%</td>\n",
       "      <td>$3.89T</td>\n",
       "      <td>9.51%</td>\n",
       "    </tr>\n",
       "    <tr>\n",
       "      <th>Information Technology</th>\n",
       "      <td>-0.86%</td>\n",
       "      <td>$6.85T</td>\n",
       "      <td>19.70%</td>\n",
       "    </tr>\n",
       "    <tr>\n",
       "      <th>Materials</th>\n",
       "      <td>+0.58%</td>\n",
       "      <td>$1.76T</td>\n",
       "      <td>2.67%</td>\n",
       "    </tr>\n",
       "    <tr>\n",
       "      <th>Real Estate</th>\n",
       "      <td>+0.29%</td>\n",
       "      <td>$1.20T</td>\n",
       "      <td>2.95%</td>\n",
       "    </tr>\n",
       "    <tr>\n",
       "      <th>Utilities</th>\n",
       "      <td>-0.18%</td>\n",
       "      <td>$1.21T</td>\n",
       "      <td>3.20%</td>\n",
       "    </tr>\n",
       "  </tbody>\n",
       "</table>\n",
       "</div>"
      ],
      "text/plain": [
       "                       Sector_Change Market_Capital Market_Weight\n",
       "Communication Services        +0.07%         $4.46T         9.80%\n",
       "Consumer Discretionary        -0.32%         $4.73T         9.73%\n",
       "Consumer Staples              +0.20%         $3.41T         7.50%\n",
       "Energy                        +0.72%         $3.47T         5.51%\n",
       "Financials                    -0.72%         $7.16T        13.82%\n",
       "Health Care                   +0.60%         $5.66T        15.61%\n",
       "Industrials                   -0.03%         $3.89T         9.51%\n",
       "Information Technology        -0.86%         $6.85T        19.70%\n",
       "Materials                     +0.58%         $1.76T         2.67%\n",
       "Real Estate                   +0.29%         $1.20T         2.95%\n",
       "Utilities                     -0.18%         $1.21T         3.20%"
      ]
     },
     "execution_count": 1,
     "metadata": {},
     "output_type": "execute_result"
    }
   ],
   "source": [
    "import requests\n",
    "from bs4 import BeautifulSoup\n",
    "import pandas as pd\n",
    "\n",
    "def sector_data(sector_page_link):\n",
    "    response = requests.get(sector_page_link)\n",
    "    results_page = BeautifulSoup(response.content, 'lxml')\n",
    "    \n",
    "    sector_change = results_page.find('div', class_='tab-content-wrapper').find_all('span')[1].get_text()\n",
    "    sector_market_cap = results_page.find('div', class_='tab-content-wrapper').find_all('span')[3].get_text()\n",
    "    sector_market_weight = results_page.find('div', class_='tab-content-wrapper').find_all('span')[5].get_text()\n",
    "    \n",
    "    return sector_change, sector_market_cap, sector_market_weight\n",
    "\n",
    "def sector_performance():\n",
    "    stats_list = list()\n",
    "    sector_list = list()\n",
    "    measure_list = list()\n",
    "\n",
    "    url = \"https://eresearch.fidelity.com/eresearch/goto/markets_sectors/landing.jhtml\"\n",
    "\n",
    "    results_page = requests.get(url)\n",
    "    soup = BeautifulSoup(results_page.content, 'lxml')\n",
    "    all_performance = soup.find_all('a', class_='heading1')\n",
    "\n",
    "    for sectors in all_performance:\n",
    "        name = sectors.find('strong').get_text()\n",
    "        link = \"https://eresearch.fidelity.com\" + sectors.get('href')\n",
    "        change, mktcap, mktwgt = sector_data(link)\n",
    "        stats_list.append((change, mktcap, mktwgt))\n",
    "        sector_list.append(name)\n",
    "\n",
    "    measure_list = 'Sector_Change', 'Market_Capital', 'Market_Weight'\n",
    "    sector_table = pd.DataFrame(stats_list, index = sector_list, columns = measure_list)\n",
    "    \n",
    "    return sector_table\n",
    "\n",
    "# Sector performance from Fidelity\n",
    "sector_performance()"
   ]
  },
  {
   "cell_type": "code",
   "execution_count": 211,
   "metadata": {},
   "outputs": [
    {
     "name": "stdout",
     "output_type": "stream",
     "text": [
      "Enter a stock ticker: aapl\n"
     ]
    }
   ],
   "source": [
    "stock = input('Enter a stock ticker: ').upper()"
   ]
  },
  {
   "cell_type": "code",
   "execution_count": 212,
   "metadata": {},
   "outputs": [
    {
     "data": {
      "text/plain": [
       "('Technology', 'Consumer Electronics')"
      ]
     },
     "execution_count": 212,
     "metadata": {},
     "output_type": "execute_result"
    }
   ],
   "source": [
    "def get_sector():\n",
    "    import requests\n",
    "    from bs4 import BeautifulSoup\n",
    "    url = 'https://finance.yahoo.com/quote/' + stock + '/profile?p=' + stock\n",
    "\n",
    "    response = requests.get(url)\n",
    "    results_page = BeautifulSoup(response.content, 'lxml')\n",
    "    profile = results_page.find('div', class_='asset-profile-container')\n",
    "    sector = profile.find_all('strong')[0].get_text()\n",
    "    industry = profile.find_all('strong')[1].get_text()\n",
    "\n",
    "    return sector, industry\n",
    "# sector and industry from Yahoo Finance\n",
    "get_sector()"
   ]
  },
  {
   "cell_type": "markdown",
   "metadata": {},
   "source": [
    "### Find competitors"
   ]
  },
  {
   "cell_type": "code",
   "execution_count": 213,
   "metadata": {},
   "outputs": [
    {
     "data": {
      "text/plain": [
       "['IBM', 'HPQ', 'HPE', 'DVMT']"
      ]
     },
     "execution_count": 213,
     "metadata": {},
     "output_type": "execute_result"
    }
   ],
   "source": [
    "def get_competitors(stock):\n",
    "    import requests\n",
    "    from bs4 import BeautifulSoup\n",
    "    url = 'https://www.nasdaq.com/symbol/' + stock + '/stock-comparison'\n",
    "\n",
    "    response = requests.get(url)\n",
    "    results_page = BeautifulSoup(response.content, 'lxml')\n",
    "    table = results_page.find('div', class_='genTable thin')\n",
    "    competitors = list()\n",
    "    for i in range(4):\n",
    "        competitors.append(table.find_all('input')[i].get('value'))\n",
    "    \n",
    "    return competitors\n",
    "    \n",
    "get_competitors(stock)"
   ]
  },
  {
   "cell_type": "code",
   "execution_count": 214,
   "metadata": {},
   "outputs": [],
   "source": [
    "def get_financial_stats(ticker):\n",
    "    import requests\n",
    "    from bs4 import BeautifulSoup\n",
    "    url = \"https://finance.yahoo.com/quote/\" + ticker + \"/key-statistics?p=\" + ticker\n",
    "    \n",
    "    response = requests.get(url)\n",
    "    results_page = BeautifulSoup(response.content,'lxml')\n",
    "    stats_lists = results_page.find_all('table')\n",
    "    test_list = list()\n",
    "    for i in stats_lists:\n",
    "        stat_name = i.find_all('span')\n",
    "        stock_stat = i.find_all('td',class_='Fz(s) Fw(500) Ta(end)')\n",
    "        for j in range(len(stock_stat)):\n",
    "            if not stat_name[j].get_text() == 'N/A':\n",
    "                test_list.append((stat_name[j].get_text(),stock_stat[j].get_text()))\n",
    "    return test_list"
   ]
  },
  {
   "cell_type": "code",
   "execution_count": 215,
   "metadata": {},
   "outputs": [],
   "source": [
    "def get_row(ticker,measure_list):\n",
    "    from pandas_datareader import data as web\n",
    "    a = get_financial_stats(ticker)\n",
    "    row = list()\n",
    "    row.append(web.DataReader(ticker,\"yahoo\").iloc[-1,3])\n",
    "    for i in measure_list:\n",
    "        if not i == \"Price\":\n",
    "            appended = 0\n",
    "            for j in a:\n",
    "                if j[0] == i:\n",
    "                    row.append(j[1])\n",
    "                    appended = 1\n",
    "            if appended == 0:\n",
    "                row.append('N/A')   \n",
    "    return row"
   ]
  },
  {
   "cell_type": "markdown",
   "metadata": {},
   "source": [
    "### Comparison Table"
   ]
  },
  {
   "cell_type": "code",
   "execution_count": 216,
   "metadata": {},
   "outputs": [
    {
     "data": {
      "text/html": [
       "<div>\n",
       "<style scoped>\n",
       "    .dataframe tbody tr th:only-of-type {\n",
       "        vertical-align: middle;\n",
       "    }\n",
       "\n",
       "    .dataframe tbody tr th {\n",
       "        vertical-align: top;\n",
       "    }\n",
       "\n",
       "    .dataframe thead th {\n",
       "        text-align: right;\n",
       "    }\n",
       "</style>\n",
       "<table border=\"1\" class=\"dataframe\">\n",
       "  <thead>\n",
       "    <tr style=\"text-align: right;\">\n",
       "      <th></th>\n",
       "      <th>Price</th>\n",
       "      <th>Market Cap (intraday)</th>\n",
       "      <th>Diluted EPS</th>\n",
       "      <th>Book Value Per Share</th>\n",
       "      <th>Quarterly Revenue Growth</th>\n",
       "      <th>Quarterly Earnings Growth</th>\n",
       "      <th>Trailing Annual Dividend Yield</th>\n",
       "      <th>5 Year Average Dividend Yield</th>\n",
       "      <th>Payout Ratio</th>\n",
       "      <th>Trailing P/E</th>\n",
       "      <th>PEG Ratio (5 yr expected)</th>\n",
       "      <th>Beta (3Y Monthly)</th>\n",
       "    </tr>\n",
       "  </thead>\n",
       "  <tbody>\n",
       "    <tr>\n",
       "      <th>AAPL</th>\n",
       "      <td>178.580002</td>\n",
       "      <td>847.43B</td>\n",
       "      <td>11.91</td>\n",
       "      <td>22.53</td>\n",
       "      <td>19.60%</td>\n",
       "      <td>31.80%</td>\n",
       "      <td>1.51%</td>\n",
       "      <td>1.73</td>\n",
       "      <td>22.84%</td>\n",
       "      <td>14.99</td>\n",
       "      <td>1.03</td>\n",
       "      <td>1.21</td>\n",
       "    </tr>\n",
       "    <tr>\n",
       "      <th>IBM</th>\n",
       "      <td>124.269997</td>\n",
       "      <td>112.94B</td>\n",
       "      <td>6.20</td>\n",
       "      <td>21.77</td>\n",
       "      <td>-2.10%</td>\n",
       "      <td>-1.20%</td>\n",
       "      <td>5.05%</td>\n",
       "      <td>3.25</td>\n",
       "      <td>98.08%</td>\n",
       "      <td>20.03</td>\n",
       "      <td>9.28</td>\n",
       "      <td>1.84</td>\n",
       "    </tr>\n",
       "    <tr>\n",
       "      <th>HPQ</th>\n",
       "      <td>23.000000</td>\n",
       "      <td>36.4B</td>\n",
       "      <td>2.74</td>\n",
       "      <td>N/A</td>\n",
       "      <td>11.70%</td>\n",
       "      <td>26.40%</td>\n",
       "      <td>2.41%</td>\n",
       "      <td>2.76</td>\n",
       "      <td>20.02%</td>\n",
       "      <td>8.39</td>\n",
       "      <td>0.90</td>\n",
       "      <td>1.90</td>\n",
       "    </tr>\n",
       "    <tr>\n",
       "      <th>HPE</th>\n",
       "      <td>15.000000</td>\n",
       "      <td>22.07B</td>\n",
       "      <td>2.00</td>\n",
       "      <td>15.81</td>\n",
       "      <td>3.50%</td>\n",
       "      <td>173.30%</td>\n",
       "      <td>2.17%</td>\n",
       "      <td>N/A</td>\n",
       "      <td>Jan 2, 2019</td>\n",
       "      <td>7.50</td>\n",
       "      <td>-1.25</td>\n",
       "      <td>1.60</td>\n",
       "    </tr>\n",
       "    <tr>\n",
       "      <th>DVMT</th>\n",
       "      <td>105.480003</td>\n",
       "      <td>81.02B</td>\n",
       "      <td>-3.88</td>\n",
       "      <td>11.15</td>\n",
       "      <td>17.50%</td>\n",
       "      <td>N/A</td>\n",
       "      <td>N/A</td>\n",
       "      <td>2/1</td>\n",
       "      <td>N/A</td>\n",
       "      <td>N/A</td>\n",
       "      <td>0.95</td>\n",
       "      <td>N/A</td>\n",
       "    </tr>\n",
       "  </tbody>\n",
       "</table>\n",
       "</div>"
      ],
      "text/plain": [
       "           Price Market Cap (intraday) Diluted EPS Book Value Per Share  \\\n",
       "AAPL  178.580002               847.43B       11.91                22.53   \n",
       "IBM   124.269997               112.94B        6.20                21.77   \n",
       "HPQ    23.000000                 36.4B        2.74                  N/A   \n",
       "HPE    15.000000                22.07B        2.00                15.81   \n",
       "DVMT  105.480003                81.02B       -3.88                11.15   \n",
       "\n",
       "     Quarterly Revenue Growth Quarterly Earnings Growth  \\\n",
       "AAPL                   19.60%                    31.80%   \n",
       "IBM                    -2.10%                    -1.20%   \n",
       "HPQ                    11.70%                    26.40%   \n",
       "HPE                     3.50%                   173.30%   \n",
       "DVMT                   17.50%                       N/A   \n",
       "\n",
       "     Trailing Annual Dividend Yield 5 Year Average Dividend Yield  \\\n",
       "AAPL                          1.51%                          1.73   \n",
       "IBM                           5.05%                          3.25   \n",
       "HPQ                           2.41%                          2.76   \n",
       "HPE                           2.17%                           N/A   \n",
       "DVMT                            N/A                           2/1   \n",
       "\n",
       "     Payout Ratio Trailing P/E PEG Ratio (5 yr expected) Beta (3Y Monthly)  \n",
       "AAPL       22.84%        14.99                      1.03              1.21  \n",
       "IBM        98.08%        20.03                      9.28              1.84  \n",
       "HPQ        20.02%         8.39                      0.90              1.90  \n",
       "HPE   Jan 2, 2019         7.50                     -1.25              1.60  \n",
       "DVMT          N/A          N/A                      0.95               N/A  "
      ]
     },
     "execution_count": 216,
     "metadata": {},
     "output_type": "execute_result"
    }
   ],
   "source": [
    "def comp_stat_table(stock):\n",
    "    import pandas as pd\n",
    "    measure_list = ['Price','Market Cap (intraday)','Diluted EPS','Book Value Per Share','Quarterly Revenue Growth','Quarterly Earnings Growth','Trailing Annual Dividend Yield','5 Year Average Dividend Yield','Payout Ratio','Trailing P/E','PEG Ratio (5 yr expected)','Beta (3Y Monthly)']\n",
    "    r = get_competitors(stock)\n",
    "    r.insert(0, stock)\n",
    "    \n",
    "    s_row = get_row(stock,measure_list)\n",
    "    a_row = get_row(r[1],measure_list)\n",
    "    b_row = get_row(r[2],measure_list)\n",
    "    c_row = get_row(r[3],measure_list)\n",
    "    d_row = get_row(r[4],measure_list)\n",
    "\n",
    "    stats_list = [s_row,a_row,b_row,c_row,d_row]\n",
    "    final_table = pd.DataFrame(stats_list,index = r,columns = measure_list)\n",
    "    return final_table\n",
    "comp_stat_table(stock)"
   ]
  },
  {
   "cell_type": "code",
   "execution_count": 220,
   "metadata": {},
   "outputs": [
    {
     "name": "stdout",
     "output_type": "stream",
     "text": [
      "Symbols         AAPL      DVMT       HPE       HPQ       IBM       SPY\n",
      "Date                                                                  \n",
      "2015-12-01       NaN       NaN       NaN       NaN       NaN       NaN\n",
      "2015-12-02 -0.009034       NaN -0.042281 -0.062009 -0.011183 -0.010205\n",
      "2015-12-03 -0.009288       NaN -0.022073  0.016737 -0.005583 -0.014003\n",
      "2015-12-04  0.033246       NaN  0.041039  0.013992  0.010869  0.019503\n",
      "2015-12-07 -0.006301       NaN  0.021463 -0.003772 -0.006267 -0.006059\n",
      "2015-12-08 -0.000423       NaN -0.018123  0.003292 -0.010749 -0.006719\n",
      "2015-12-09 -0.022076       NaN -0.021094 -0.006562 -0.010431 -0.007780\n",
      "2015-12-10  0.004757       NaN -0.008754  0.020644  0.001244  0.002581\n",
      "2015-12-11 -0.025738       NaN -0.036685 -0.012136 -0.016157 -0.019381\n",
      "2015-12-14 -0.006185       NaN  0.018336 -0.004095  0.010106  0.005053\n",
      "2015-12-15 -0.017692       NaN  0.008310  0.004112  0.013684  0.010498\n",
      "2015-12-16  0.007693       NaN  0.009616  0.004095  0.010886  0.014632\n",
      "2015-12-17 -0.021196       NaN -0.026531 -0.029364 -0.018235 -0.015238\n",
      "2015-12-18 -0.027069       NaN -0.010482 -0.032773 -0.013529 -0.017817\n",
      "2015-12-21  0.012261       NaN -0.009887 -0.006950  0.004448  0.008249\n",
      "2015-12-22 -0.000932       NaN  0.002853  0.020122  0.017933  0.009074\n",
      "2015-12-23  0.012870       NaN  0.060455  0.007719  0.004422  0.012383\n",
      "2015-12-24 -0.005340       NaN  0.007378 -0.001702 -0.002093 -0.001650\n",
      "2015-12-28 -0.011201       NaN  0.013981 -0.008525 -0.004629 -0.002285\n",
      "2015-12-29  0.017974       NaN -0.001970  0.019776  0.015769  0.010672\n",
      "2015-12-30 -0.013058       NaN  0.005263 -0.001686 -0.003148 -0.007088\n",
      "2015-12-31 -0.019195       NaN -0.005235  0.000000 -0.012344 -0.010004\n",
      "2016-01-04  0.000855       NaN -0.004605 -0.020270 -0.012135 -0.013980\n",
      "2016-01-05 -0.025059       NaN -0.006610  0.009483 -0.000735  0.001691\n",
      "2016-01-06 -0.019570       NaN -0.015303 -0.035867 -0.005005 -0.012614\n",
      "2016-01-07 -0.042204       NaN -0.073649 -0.046058 -0.017090 -0.023992\n",
      "2016-01-08  0.005288       NaN -0.012400 -0.017642 -0.009258 -0.010977\n",
      "2016-01-11  0.016192       NaN -0.020679  0.006616  0.012155  0.000990\n",
      "2016-01-12  0.014513       NaN  0.000000  0.015962 -0.002477  0.008068\n",
      "2016-01-13 -0.025710       NaN -0.038461 -0.022181 -0.013017 -0.024940\n",
      "...              ...       ...       ...       ...       ...       ...\n",
      "2018-10-19  0.015230 -0.007514  0.007175  0.002945 -0.011107 -0.000543\n",
      "2018-10-22  0.006110  0.009917  0.025907  0.011326  0.007126 -0.004489\n",
      "2018-10-23  0.009427 -0.019428 -0.011995 -0.007051  0.009152 -0.005091\n",
      "2018-10-24 -0.034302 -0.032519 -0.035783 -0.036759 -0.030486 -0.030299\n",
      "2018-10-25  0.021898  0.011130  0.003976  0.031657 -0.005974  0.017941\n",
      "2018-10-26 -0.015924 -0.026197 -0.034323 -0.027743 -0.013128 -0.017587\n",
      "2018-10-29 -0.018770 -0.019329 -0.004101 -0.004756 -0.041269 -0.005540\n",
      "2018-10-30  0.004994  0.022130  0.024708  0.028236 -0.035440  0.014818\n",
      "2018-10-31  0.026067  0.019283  0.021433  0.019856  0.000260  0.010681\n",
      "2018-11-01  0.015352  0.008519  0.036066  0.014499  0.012129  0.010642\n",
      "2018-11-02 -0.066331  0.000219  0.005696  0.005717 -0.009929 -0.005923\n",
      "2018-11-05 -0.028388  0.005813  0.002517  0.000406  0.037953  0.005517\n",
      "2018-11-06  0.010814  0.004253 -0.003139  0.009740  0.025487  0.006328\n",
      "2018-11-07  0.030328  0.062541  0.022670  0.023714  0.013970  0.021409\n",
      "2018-11-08 -0.003489  0.010832  0.000616  0.001178  0.000892 -0.001815\n",
      "2018-11-09 -0.019282 -0.008795 -0.032615 -0.019608  0.001297 -0.009768\n",
      "2018-11-12 -0.050374  0.004589 -0.027990 -0.040400 -0.021370 -0.018685\n",
      "2018-11-13 -0.009991  0.031168  0.003927 -0.001667 -0.000496 -0.001871\n",
      "2018-11-14 -0.028247  0.040563 -0.012386 -0.009186 -0.005296 -0.006837\n",
      "2018-11-15  0.024679 -0.005961  0.011221  0.018542  0.010316  0.010437\n",
      "2018-11-16  0.011076 -0.005616 -0.007833 -0.000414  0.001070  0.002601\n",
      "2018-11-19 -0.039632 -0.011199 -0.024342 -0.025248 -0.010364 -0.016914\n",
      "2018-11-20 -0.047778 -0.006389 -0.020229 -0.039915 -0.025850 -0.018506\n",
      "2018-11-21 -0.001130  0.003410  0.011700  0.002211  0.011689  0.003408\n",
      "2018-11-23 -0.025399  0.009030 -0.010884 -0.006620 -0.011639 -0.006679\n",
      "2018-11-26  0.013524  0.016455  0.025447  0.013327  0.020224  0.016144\n",
      "2018-11-27 -0.002176 -0.009183  0.010060 -0.003507  0.003931  0.003364\n",
      "2018-11-28  0.038453  0.018536  0.026560  0.030796  0.024744  0.023025\n",
      "2018-11-29 -0.007682 -0.005629 -0.021992 -0.024328 -0.012358 -0.002185\n",
      "2018-11-30 -0.005402 -0.004906 -0.007937  0.006124  0.022967  0.006095\n",
      "\n",
      "[757 rows x 6 columns]\n",
      "Symbols\n",
      "AAPL    0.623726\n",
      "DVMT    0.411496\n",
      "HPE     0.561889\n",
      "HPQ     0.637400\n",
      "IBM     0.571508\n",
      "SPY     1.000000\n",
      "Name: SPY, dtype: float64\n"
     ]
    }
   ],
   "source": [
    "import datetime\n",
    "import dateutil.relativedelta\n",
    "import numpy as np\n",
    "import pandas_datareader.data as web\n",
    "import matplotlib.pyplot as plt\n",
    "%matplotlib inline\n",
    "import statsmodels.api as sm\n",
    "\n",
    "stocks = stock, get_competitors(stock)\n",
    "three_years_ago = (datetime.date.today() - dateutil.relativedelta.relativedelta(years=3)).strftime('%Y-%m-%d')\n",
    "today = datetime.date.today().strftime('%Y-%m-%d')\n",
    "\n",
    "\n",
    "prices = web.DataReader(np.hstack(('SPY',)+stocks),'yahoo',three_years_ago,today)['Adj Close']\n",
    "returns = prices.pct_change() # daily returns\n",
    "print(returns)\n",
    "print(returns.corr()['SPY']) # correlation between each stock and S&P 500\n",
    "\n",
    "# print(plt.scatter(returns.SPY,returns.stock))"
   ]
  },
  {
   "cell_type": "code",
   "execution_count": 218,
   "metadata": {},
   "outputs": [
    {
     "data": {
      "text/plain": [
       "<matplotlib.collections.PathCollection at 0x164af190>"
      ]
     },
     "execution_count": 218,
     "metadata": {},
     "output_type": "execute_result"
    },
    {
     "data": {
      "image/png": "[encoded data removed]",
      "text/plain": [
       "<Figure size 432x288 with 1 Axes>"
      ]
     },
     "metadata": {
      "needs_background": "light"
     },
     "output_type": "display_data"
    }
   ],
   "source": [
    "plt.xlabel('Expected returns')\n",
    "plt.ylabel('Standard deviations')\n",
    "for label,x,y in zip(returns.columns,returns.mean(),returns.std()):\n",
    "    plt.annotate(\n",
    "        label, \n",
    "        xy = (x,y),\n",
    "        xytext = (50,50),\n",
    "        textcoords = 'offset points',\n",
    "        bbox = dict(fc = 'yellow'),\n",
    "        arrowprops = dict(arrowstyle = '-')\n",
    "    )\n",
    "plt.scatter(returns.mean(), returns.std())"
   ]
  },
  {
   "cell_type": "code",
   "execution_count": 219,
   "metadata": {},
   "outputs": [
    {
     "data": {
      "text/plain": [
       "[<matplotlib.lines.Line2D at 0x161d9790>]"
      ]
     },
     "execution_count": 219,
     "metadata": {},
     "output_type": "execute_result"
    },
    {
     "data": {
      "image/png": "[encoded data removed]",
      "text/plain": [
       "<Figure size 576x432 with 1 Axes>"
      ]
     },
     "metadata": {
      "needs_background": "light"
     },
     "output_type": "display_data"
    }
   ],
   "source": [
    "x = prices[np.hstack(stocks)]\n",
    "x = sm.add_constant(x)\n",
    "y = prices['SPY']\n",
    "model = sm.OLS(y,x,missing='drop')\n",
    "regression = model.fit()\n",
    "# print(regression.summary())\n",
    "\n",
    "fig,ax = plt.subplots(figsize=(8,6))\n",
    "ax.plot(y) # blue\n",
    "ax.plot(regression.fittedvalues) # orange"
   ]
  },
  {
   "cell_type": "code",
   "execution_count": null,
   "metadata": {},
   "outputs": [],
   "source": []
  }
 ],
 "metadata": {
  "kernelspec": {
   "display_name": "Python 3",
   "language": "python",
   "name": "python3"
  },
  "language_info": {
   "codemirror_mode": {
    "name": "ipython",
    "version": 3
   },
   "file_extension": ".py",
   "mimetype": "text/x-python",
   "name": "python",
   "nbconvert_exporter": "python",
   "pygments_lexer": "ipython3",
   "version": "3.7.0"
  }
 },
 "nbformat": 4,
 "nbformat_minor": 2
}
