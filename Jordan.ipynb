{
 "cells": [
  {
   "cell_type": "code",
   "execution_count": 1,
   "metadata": {},
   "outputs": [
    {
     "data": {
      "text/plain": [
       "(['Communication Services',\n",
       "  'Consumer Discretionary',\n",
       "  'Consumer Staples',\n",
       "  'Energy',\n",
       "  'Financials',\n",
       "  'Health Care',\n",
       "  'Industrials',\n",
       "  'Information Technology',\n",
       "  'Materials',\n",
       "  'Real Estate',\n",
       "  'Utilities'],\n",
       " [('Communication Services',\n",
       "   2.13,\n",
       "   '$4.37T',\n",
       "   9.8,\n",
       "   'https://eresearch.fidelity.com/eresearch/markets_sectors/sectors/sectors_in_market.jhtml?tab=learn&sector=50'),\n",
       "  ('Consumer Discretionary',\n",
       "   3.23,\n",
       "   '$4.61T',\n",
       "   9.73,\n",
       "   'https://eresearch.fidelity.com/eresearch/markets_sectors/sectors/sectors_in_market.jhtml?tab=learn&sector=25'),\n",
       "  ('Consumer Staples',\n",
       "   0.99,\n",
       "   '$3.37T',\n",
       "   7.5,\n",
       "   'https://eresearch.fidelity.com/eresearch/markets_sectors/sectors/sectors_in_market.jhtml?tab=learn&sector=30'),\n",
       "  ('Energy',\n",
       "   1.74,\n",
       "   '$3.42T',\n",
       "   5.51,\n",
       "   'https://eresearch.fidelity.com/eresearch/markets_sectors/sectors/sectors_in_market.jhtml?tab=learn&sector=10'),\n",
       "  ('Financials',\n",
       "   1.82,\n",
       "   '$7.03T',\n",
       "   13.82,\n",
       "   'https://eresearch.fidelity.com/eresearch/markets_sectors/sectors/sectors_in_market.jhtml?tab=learn&sector=40'),\n",
       "  ('Health Care',\n",
       "   2.46,\n",
       "   '$5.52T',\n",
       "   15.61,\n",
       "   'https://eresearch.fidelity.com/eresearch/markets_sectors/sectors/sectors_in_market.jhtml?tab=learn&sector=35'),\n",
       "  ('Industrials',\n",
       "   2.4,\n",
       "   '$3.80T',\n",
       "   9.51,\n",
       "   'https://eresearch.fidelity.com/eresearch/markets_sectors/sectors/sectors_in_market.jhtml?tab=learn&sector=20'),\n",
       "  ('Information Technology',\n",
       "   3.44,\n",
       "   '$6.62T',\n",
       "   19.7,\n",
       "   'https://eresearch.fidelity.com/eresearch/markets_sectors/sectors/sectors_in_market.jhtml?tab=learn&sector=45'),\n",
       "  ('Materials',\n",
       "   1.48,\n",
       "   '$1.72T',\n",
       "   2.67,\n",
       "   'https://eresearch.fidelity.com/eresearch/markets_sectors/sectors/sectors_in_market.jhtml?tab=learn&sector=15'),\n",
       "  ('Real Estate',\n",
       "   0.87,\n",
       "   '$1.19T',\n",
       "   2.95,\n",
       "   'https://eresearch.fidelity.com/eresearch/markets_sectors/sectors/sectors_in_market.jhtml?tab=learn&sector=60'),\n",
       "  ('Utilities',\n",
       "   -0.12,\n",
       "   '$1.21T',\n",
       "   3.2,\n",
       "   'https://eresearch.fidelity.com/eresearch/markets_sectors/sectors/sectors_in_market.jhtml?tab=learn&sector=55')])"
      ]
     },
     "execution_count": 1,
     "metadata": {},
     "output_type": "execute_result"
    }
   ],
   "source": [
    "import requests\n",
    "from bs4 import BeautifulSoup\n",
    "\n",
    "def sector_data(sector_page_link):\n",
    "    response = requests.get(sector_page_link)\n",
    "    results_page = BeautifulSoup(response.content, 'lxml')\n",
    "\n",
    "    change = results_page.find('div', class_='tab-content-wrapper').find_all('span')[1].get_text()\n",
    "    if '--' in change:\n",
    "        sector_change = float(change.replace('--', '0'))\n",
    "    else:\n",
    "        sector_change = float(change[:-1])\n",
    "\n",
    "    sector_market_cap = results_page.find('div', class_='tab-content-wrapper').find_all('span')[3].get_text()\n",
    "    \n",
    "    weight = results_page.find('div', class_='tab-content-wrapper').find_all('span')[5].get_text()\n",
    "    if '--' in weight:\n",
    "        sector_market_weight = float(weight.replace('--', '0'))\n",
    "    else:\n",
    "        sector_market_weight = float(weight[:-1])\n",
    "\n",
    "    return sector_change, sector_market_cap, sector_market_weight\n",
    "\n",
    "def sector_performance():\n",
    "    output_list = list()\n",
    "    sector_list = list()\n",
    "    url = \"https://eresearch.fidelity.com/eresearch/goto/markets_sectors/landing.jhtml\"\n",
    "\n",
    "    results_page = requests.get(url)\n",
    "    soup = BeautifulSoup(results_page.content, 'lxml')\n",
    "    all_performance = soup.find_all('a', class_='heading1')\n",
    "\n",
    "    for sectors in all_performance:\n",
    "        name = sectors.find('strong').get_text()\n",
    "        link = \"https://eresearch.fidelity.com\" + sectors.get('href')\n",
    "        change, mktcap, mktwgt = sector_data(link)\n",
    "        output_list.append((name, change, mktcap, mktwgt, link))\n",
    "        sector_list.append(name)\n",
    "    return sector_list, output_list\n",
    "\n",
    "# Sector performance from Fidelity\n",
    "sector_performance()"
   ]
  },
  {
   "cell_type": "code",
   "execution_count": 5,
   "metadata": {},
   "outputs": [],
   "source": [
    "# import requests\n",
    "# from bs4 import BeautifulSoup\n",
    "# url = 'https://www.nasdaq.com/symbol/MCD/competitors'\n",
    "\n",
    "# response = requests.get(url)\n",
    "# results_page = BeautifulSoup(response.content, 'lxml')\n",
    "# content = results_page.find('div', class_='wrap cf').find_all('h2')[3].get_text()\n",
    "# industry = ' '.join(content.split()[2:])\n",
    "# # industry = content[21:]\n",
    "\n",
    "# # industry from nasdaq\n",
    "# industry"
   ]
  },
  {
   "cell_type": "code",
   "execution_count": 55,
   "metadata": {},
   "outputs": [
    {
     "name": "stdout",
     "output_type": "stream",
     "text": [
      "Enter a stock ticker: aapl\n"
     ]
    }
   ],
   "source": [
    "stock = input('Enter a stock ticker: ').upper()"
   ]
  },
  {
   "cell_type": "code",
   "execution_count": 42,
   "metadata": {},
   "outputs": [
    {
     "name": "stdout",
     "output_type": "stream",
     "text": [
      "Technology\n",
      "Consumer Electronics\n"
     ]
    }
   ],
   "source": [
    "import requests\n",
    "from bs4 import BeautifulSoup\n",
    "\n",
    "def get_industry():\n",
    "    url = 'https://finance.yahoo.com/quote/' + stock + '/profile?p=' + stock\n",
    "\n",
    "    response = requests.get(url)\n",
    "    results_page = BeautifulSoup(response.content, 'lxml')\n",
    "    profile = results_page.find('div', class_='asset-profile-container')\n",
    "    sector = profile.find_all('strong')[0].get_text()\n",
    "    industry = profile.find_all('strong')[1].get_text()\n",
    "\n",
    "    print(sector)\n",
    "    print(industry)\n",
    "# sector and industry from Yahoo Finance\n",
    "get_industry()"
   ]
  },
  {
   "cell_type": "code",
   "execution_count": 73,
   "metadata": {},
   "outputs": [
    {
     "data": {
      "text/plain": [
       "['IBM', 'HPQ', 'HPE', 'DVMT']"
      ]
     },
     "execution_count": 73,
     "metadata": {},
     "output_type": "execute_result"
    }
   ],
   "source": [
    "def get_competitors():\n",
    "    url = 'https://www.nasdaq.com/symbol/' + stock + '/stock-comparison'\n",
    "\n",
    "    response = requests.get(url)\n",
    "    results_page = BeautifulSoup(response.content, 'lxml')\n",
    "    table = results_page.find('div', class_='genTable thin')\n",
    "    competitors = list()\n",
    "    for i in range(4):\n",
    "        competitors.append(table.find_all('input')[i].get('value'))\n",
    "    \n",
    "    return competitors\n",
    "# competitors from nasdaq\n",
    "get_competitors()"
   ]
  },
  {
   "cell_type": "code",
   "execution_count": 52,
   "metadata": {},
   "outputs": [
    {
     "data": {
      "text/plain": [
       "'1.21'"
      ]
     },
     "execution_count": 52,
     "metadata": {},
     "output_type": "execute_result"
    }
   ],
   "source": [
    "#from William\n",
    "def get_stats():\n",
    "    url = 'https://finance.yahoo.com/quote/' + stock + '/key-statistics?p=' + stock\n",
    "    response = requests.get(url)\n",
    "    results_page = BeautifulSoup(response.content,'lxml')\n",
    "    stats_lists = results_page.find_all('table')\n",
    "    test_list = list()\n",
    "    for i in stats_lists:\n",
    "        stat_name = i.find_all('span')\n",
    "        stock_stat = i.find_all('td',class_='Fz(s) Fw(500) Ta(end)')\n",
    "        for j in range(len(stat_name)):\n",
    "            test_list.append((stat_name[j].get_text(),stock_stat[j].get_text()))\n",
    "\n",
    "test_list[0][1]\n",
    "test_list[2][1]\n",
    "test_list[31][1]"
   ]
  },
  {
   "cell_type": "code",
   "execution_count": 82,
   "metadata": {},
   "outputs": [
    {
     "data": {
      "text/html": [
       "<div>\n",
       "<style scoped>\n",
       "    .dataframe tbody tr th:only-of-type {\n",
       "        vertical-align: middle;\n",
       "    }\n",
       "\n",
       "    .dataframe tbody tr th {\n",
       "        vertical-align: top;\n",
       "    }\n",
       "\n",
       "    .dataframe thead th {\n",
       "        text-align: right;\n",
       "    }\n",
       "</style>\n",
       "<table border=\"1\" class=\"dataframe\">\n",
       "  <thead>\n",
       "    <tr style=\"text-align: right;\">\n",
       "      <th></th>\n",
       "      <th>Price</th>\n",
       "      <th>Market Cap (intraday)</th>\n",
       "      <th>Trailing P/E</th>\n",
       "      <th>Beta (3Y Monthly)</th>\n",
       "    </tr>\n",
       "  </thead>\n",
       "  <tbody>\n",
       "    <tr>\n",
       "      <th>AAPL</th>\n",
       "      <td>NaN</td>\n",
       "      <td>NaN</td>\n",
       "      <td>NaN</td>\n",
       "      <td>NaN</td>\n",
       "    </tr>\n",
       "    <tr>\n",
       "      <th>IBM</th>\n",
       "      <td>NaN</td>\n",
       "      <td>NaN</td>\n",
       "      <td>NaN</td>\n",
       "      <td>NaN</td>\n",
       "    </tr>\n",
       "    <tr>\n",
       "      <th>HPQ</th>\n",
       "      <td>NaN</td>\n",
       "      <td>NaN</td>\n",
       "      <td>NaN</td>\n",
       "      <td>NaN</td>\n",
       "    </tr>\n",
       "    <tr>\n",
       "      <th>HPE</th>\n",
       "      <td>NaN</td>\n",
       "      <td>NaN</td>\n",
       "      <td>NaN</td>\n",
       "      <td>NaN</td>\n",
       "    </tr>\n",
       "    <tr>\n",
       "      <th>DVMT</th>\n",
       "      <td>NaN</td>\n",
       "      <td>NaN</td>\n",
       "      <td>NaN</td>\n",
       "      <td>NaN</td>\n",
       "    </tr>\n",
       "  </tbody>\n",
       "</table>\n",
       "</div>"
      ],
      "text/plain": [
       "     Price Market Cap (intraday) Trailing P/E Beta (3Y Monthly)\n",
       "AAPL   NaN                   NaN          NaN               NaN\n",
       "IBM    NaN                   NaN          NaN               NaN\n",
       "HPQ    NaN                   NaN          NaN               NaN\n",
       "HPE    NaN                   NaN          NaN               NaN\n",
       "DVMT   NaN                   NaN          NaN               NaN"
      ]
     },
     "execution_count": 82,
     "metadata": {},
     "output_type": "execute_result"
    }
   ],
   "source": [
    "import pandas as pd\n",
    "\n",
    "stocks = get_competitors()\n",
    "stocks.insert(0, stock)\n",
    "\n",
    "measures = 'Price', test_list[0][0], test_list[2][0], test_list[31][0]\n",
    "\n",
    "pd.DataFrame(index = stocks, columns = measures)"
   ]
  },
  {
   "cell_type": "code",
   "execution_count": null,
   "metadata": {},
   "outputs": [],
   "source": []
  },
  {
   "cell_type": "code",
   "execution_count": null,
   "metadata": {},
   "outputs": [],
   "source": []
  },
  {
   "cell_type": "code",
   "execution_count": null,
   "metadata": {},
   "outputs": [],
   "source": []
  }
 ],
 "metadata": {
  "kernelspec": {
   "display_name": "Python 3",
   "language": "python",
   "name": "python3"
  },
  "language_info": {
   "codemirror_mode": {
    "name": "ipython",
    "version": 3
   },
   "file_extension": ".py",
   "mimetype": "text/x-python",
   "name": "python",
   "nbconvert_exporter": "python",
   "pygments_lexer": "ipython3",
   "version": "3.6.5"
  }
 },
 "nbformat": 4,
 "nbformat_minor": 2
}
