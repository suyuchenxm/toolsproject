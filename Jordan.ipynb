{
 "cells": [
  {
   "cell_type": "code",
   "execution_count": 25,
   "metadata": {},
   "outputs": [
    {
     "data": {
      "text/plain": [
       "(['Communication Services',\n",
       "  'Consumer Discretionary',\n",
       "  'Consumer Staples',\n",
       "  'Energy',\n",
       "  'Financials',\n",
       "  'Health Care',\n",
       "  'Industrials',\n",
       "  'Information Technology',\n",
       "  'Materials',\n",
       "  'Real Estate',\n",
       "  'Utilities'],\n",
       " [('Communication Services',\n",
       "   1.0,\n",
       "   '$4.31T',\n",
       "   9.82,\n",
       "   'https://eresearch.fidelity.com/eresearch/markets_sectors/sectors/sectors_in_market.jhtml?tab=learn&sector=50'),\n",
       "  ('Consumer Discretionary',\n",
       "   1.0,\n",
       "   '$4.53T',\n",
       "   9.77,\n",
       "   'https://eresearch.fidelity.com/eresearch/markets_sectors/sectors/sectors_in_market.jhtml?tab=learn&sector=25'),\n",
       "  ('Consumer Staples',\n",
       "   -0.83,\n",
       "   '$3.35T',\n",
       "   7.38,\n",
       "   'https://eresearch.fidelity.com/eresearch/markets_sectors/sectors/sectors_in_market.jhtml?tab=learn&sector=30'),\n",
       "  ('Energy',\n",
       "   1.58,\n",
       "   '$3.51T',\n",
       "   5.58,\n",
       "   'https://eresearch.fidelity.com/eresearch/markets_sectors/sectors/sectors_in_market.jhtml?tab=learn&sector=10'),\n",
       "  ('Financials',\n",
       "   0.06,\n",
       "   '$6.98T',\n",
       "   13.7,\n",
       "   'https://eresearch.fidelity.com/eresearch/markets_sectors/sectors/sectors_in_market.jhtml?tab=learn&sector=40'),\n",
       "  ('Health Care',\n",
       "   -0.51,\n",
       "   '$5.44T',\n",
       "   15.41,\n",
       "   'https://eresearch.fidelity.com/eresearch/markets_sectors/sectors/sectors_in_market.jhtml?tab=learn&sector=35'),\n",
       "  ('Industrials',\n",
       "   0.65,\n",
       "   '$3.81T',\n",
       "   9.45,\n",
       "   'https://eresearch.fidelity.com/eresearch/markets_sectors/sectors/sectors_in_market.jhtml?tab=learn&sector=20'),\n",
       "  ('Information Technology',\n",
       "   0.62,\n",
       "   '$6.52T',\n",
       "   20.22,\n",
       "   'https://eresearch.fidelity.com/eresearch/markets_sectors/sectors/sectors_in_market.jhtml?tab=learn&sector=45'),\n",
       "  ('Materials',\n",
       "   0.84,\n",
       "   '$1.78T',\n",
       "   2.66,\n",
       "   'https://eresearch.fidelity.com/eresearch/markets_sectors/sectors/sectors_in_market.jhtml?tab=learn&sector=15'),\n",
       "  ('Real Estate',\n",
       "   -0.13,\n",
       "   '$1.18T',\n",
       "   2.89,\n",
       "   'https://eresearch.fidelity.com/eresearch/markets_sectors/sectors/sectors_in_market.jhtml?tab=learn&sector=60'),\n",
       "  ('Utilities',\n",
       "   -1.48,\n",
       "   '$1.20T',\n",
       "   3.12,\n",
       "   'https://eresearch.fidelity.com/eresearch/markets_sectors/sectors/sectors_in_market.jhtml?tab=learn&sector=55')])"
      ]
     },
     "execution_count": 25,
     "metadata": {},
     "output_type": "execute_result"
    }
   ],
   "source": [
    "def sector_data(sector_page_link):\n",
    "    import requests\n",
    "    from bs4 import BeautifulSoup\n",
    "    response = requests.get(sector_page_link)\n",
    "    results_page = BeautifulSoup(response.content, 'lxml')\n",
    "\n",
    "    change = results_page.find('div', class_='tab-content-wrapper').find_all('span')[1].get_text()\n",
    "    if '--' in change:\n",
    "        sector_change = float(change.replace('--', '0'))\n",
    "    else:\n",
    "        sector_change = float(change[:-1])\n",
    "\n",
    "    sector_market_cap = results_page.find('div', class_='tab-content-wrapper').find_all('span')[3].get_text()\n",
    "    \n",
    "    weight = results_page.find('div', class_='tab-content-wrapper').find_all('span')[5].get_text()\n",
    "    if '--' in weight:\n",
    "        sector_market_weight = float(weight.replace('--', '0'))\n",
    "    else:\n",
    "        sector_market_weight = float(weight[:-1])\n",
    "\n",
    "    return sector_change, sector_market_cap, sector_market_weight\n",
    "\n",
    "def sector_performance():\n",
    "    output_list = list()\n",
    "    sector_list = list()\n",
    "    url = \"https://eresearch.fidelity.com/eresearch/goto/markets_sectors/landing.jhtml\"\n",
    "\n",
    "    import requests\n",
    "    from bs4 import BeautifulSoup\n",
    "    results_page = requests.get(url)\n",
    "    soup = BeautifulSoup(results_page.content, 'lxml')\n",
    "    all_performance = soup.find_all('a', class_='heading1')\n",
    "\n",
    "    for sectors in all_performance:\n",
    "        name = sectors.find('strong').get_text()\n",
    "        link = \"https://eresearch.fidelity.com\" + sectors.get('href')\n",
    "        change, mktcap, mktwgt = sector_data(link)\n",
    "        output_list.append((name, change, mktcap, mktwgt, link))\n",
    "        sector_list.append(name)\n",
    "    return sector_list, output_list\n",
    "\n",
    "# Sector performance from Fidelity\n",
    "sector_performance()"
   ]
  },
  {
   "cell_type": "code",
   "execution_count": 59,
   "metadata": {},
   "outputs": [
    {
     "name": "stdout",
     "output_type": "stream",
     "text": [
      "Consumer Cyclical\n",
      "Restaurants\n"
     ]
    }
   ],
   "source": [
    "import requests\n",
    "from bs4 import BeautifulSoup\n",
    "url = 'https://finance.yahoo.com/quote/MCD/profile?p=MCD'\n",
    "\n",
    "response = requests.get(url)\n",
    "results_page = BeautifulSoup(response.content, 'lxml')\n",
    "profile = results_page.find('div', class_='asset-profile-container')\n",
    "sector = profile.find_all('strong')[0].get_text()\n",
    "industry = profile.find_all('strong')[1].get_text()\n",
    "\n",
    "# sector and industry from Yahoo Finance\n",
    "print(sector)\n",
    "print(industry)"
   ]
  },
  {
   "cell_type": "code",
   "execution_count": 54,
   "metadata": {},
   "outputs": [
    {
     "data": {
      "text/plain": [
       "'Restaurants'"
      ]
     },
     "execution_count": 54,
     "metadata": {},
     "output_type": "execute_result"
    }
   ],
   "source": [
    "import requests\n",
    "from bs4 import BeautifulSoup\n",
    "url = 'https://www.nasdaq.com/symbol/mcd/competitors'\n",
    "\n",
    "response = requests.get(url)\n",
    "results_page = BeautifulSoup(response.content, 'lxml')\n",
    "content = results_page.find('div', class_='wrap cf').find_all('h2')[3].get_text()\n",
    "industry = ' '.join(content.split()[2:])\n",
    "# industry = content[21:]\n",
    "\n",
    "# industry from nasdaq\n",
    "industry"
   ]
  },
  {
   "cell_type": "code",
   "execution_count": 136,
   "metadata": {},
   "outputs": [
    {
     "data": {
      "text/plain": [
       "['SBUX', 'YUM', 'DRI', 'QSR']"
      ]
     },
     "execution_count": 136,
     "metadata": {},
     "output_type": "execute_result"
    }
   ],
   "source": [
    "url = 'https://www.nasdaq.com/symbol/mcd/stock-comparison'\n",
    "response = requests.get(url)\n",
    "results_page = BeautifulSoup(response.content, 'lxml')\n",
    "table = results_page.find('div', class_='genTable thin')\n",
    "competitors = list()\n",
    "for i in range(4):\n",
    "    competitors.append(table.find_all('input')[i].get('value'))\n",
    "\n",
    "# competitors from nasdaq\n",
    "competitors"
   ]
  },
  {
   "cell_type": "code",
   "execution_count": null,
   "metadata": {},
   "outputs": [],
   "source": []
  },
  {
   "cell_type": "code",
   "execution_count": null,
   "metadata": {},
   "outputs": [],
   "source": []
  },
  {
   "cell_type": "code",
   "execution_count": null,
   "metadata": {},
   "outputs": [],
   "source": []
  },
  {
   "cell_type": "code",
   "execution_count": null,
   "metadata": {},
   "outputs": [],
   "source": []
  },
  {
   "cell_type": "code",
   "execution_count": null,
   "metadata": {},
   "outputs": [],
   "source": []
  }
 ],
 "metadata": {
  "kernelspec": {
   "display_name": "Python 3",
   "language": "python",
   "name": "python3"
  },
  "language_info": {
   "codemirror_mode": {
    "name": "ipython",
    "version": 3
   },
   "file_extension": ".py",
   "mimetype": "text/x-python",
   "name": "python",
   "nbconvert_exporter": "python",
   "pygments_lexer": "ipython3",
   "version": "3.6.5"
  }
 },
 "nbformat": 4,
 "nbformat_minor": 2
}
