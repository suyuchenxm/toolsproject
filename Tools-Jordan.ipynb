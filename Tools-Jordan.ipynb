{
 "cells": [
  {
   "cell_type": "code",
   "execution_count": 71,
   "metadata": {},
   "outputs": [],
   "source": [
    "def get_sector_change_and_market_cap(sector_page_link):\n",
    "    import requests\n",
    "    from bs4 import BeautifulSoup\n",
    "    page = requests.get(sector_page_link)\n",
    "    soup = BeautifulSoup(page.content, 'lxml')\n",
    "\n",
    "    change = soup.find('div', class_='tab-content-wrapper').find_all('span')[1].get_text()\n",
    "    if '--' in change:\n",
    "        sector_change = float(change.replace('--', '0'))\n",
    "    else:\n",
    "        sector_change = float(change[:-1])\n",
    "\n",
    "    sector_market_cap = soup.find('div', class_='tab-content-wrapper').find_all('span')[3].get_text()\n",
    "    \n",
    "    weight = soup.find('div', class_='tab-content-wrapper').find_all('span')[5].get_text()\n",
    "    if '--' in weight:\n",
    "        sector_market_weight = float(weight.replace('--', '0'))\n",
    "    else:\n",
    "        sector_market_weight = float(weight[:-1])\n",
    "\n",
    "    return sector_change, sector_market_cap, sector_market_weight"
   ]
  },
  {
   "cell_type": "code",
   "execution_count": 72,
   "metadata": {},
   "outputs": [],
   "source": [
    "def get_us_sector_performance():\n",
    "    output_list = list()\n",
    "    url = \"https://eresearch.fidelity.com/eresearch/goto/markets_sectors/landing.jhtml\"\n",
    "\n",
    "    import requests\n",
    "    from bs4 import BeautifulSoup\n",
    "    results_page = requests.get(url)\n",
    "    soup = BeautifulSoup(results_page.content, 'lxml')\n",
    "    all_performance = soup.find_all('a', class_='heading1')\n",
    "\n",
    "    for sectors in all_performance:\n",
    "        name = sectors.find('strong').get_text()\n",
    "        link = \"https://eresearch.fidelity.com\" + sectors.get('href')\n",
    "        change, mktcap, mktwgt = get_sector_change_and_market_cap(link)\n",
    "        output_list.append((name, change, mktcap, mktwgt, link))\n",
    "        output_list.sort(key = lambda x: -x[3])\n",
    "    return output_list"
   ]
  },
  {
   "cell_type": "code",
   "execution_count": 77,
   "metadata": {},
   "outputs": [],
   "source": [
    "import requests\n",
    "from bs4 import BeautifulSoup\n",
    "url = 'https://finance.yahoo.com/quote/AAPL/analysis?p=AAPL'\n",
    "\n",
    "# def find_stock():\n",
    "#     stock_stats = list()\n",
    "\n",
    "response = requests.get(url)\n",
    "results_page = BeautifulSoup(response.content, 'lxml')\n",
    "content = results_page.find_all('tbody')\n",
    "# content\n",
    "# competitors = content.find_all('tr')\n",
    "# competitors\n",
    "\n",
    "# for data in competitors:\n",
    "#     competitors_stats = list()\n",
    "#     name = competitors.get_text()"
   ]
  },
  {
   "cell_type": "code",
   "execution_count": 93,
   "metadata": {},
   "outputs": [
    {
     "data": {
      "text/plain": [
       "'Consumer Electronics'"
      ]
     },
     "execution_count": 93,
     "metadata": {},
     "output_type": "execute_result"
    }
   ],
   "source": [
    "import requests\n",
    "from bs4 import BeautifulSoup\n",
    "url = 'https://finance.yahoo.com/quote/AAPL/profile?p=AAPL'\n",
    "\n",
    "response = requests.get(url)\n",
    "results_page = BeautifulSoup(response.content, 'lxml')\n",
    "profile = results_page.find('div', class_='asset-profile-container')\n",
    "sector = profile.find_all('strong')[0].get_text()\n",
    "industry = profile.find_all('strong')[1].get_text()\n",
    "\n",
    "# sector and industry from Yahoo Finance"
   ]
  },
  {
   "cell_type": "code",
   "execution_count": 158,
   "metadata": {},
   "outputs": [
    {
     "data": {
      "text/plain": [
       "'Competitor Industry: Restaurants'"
      ]
     },
     "execution_count": 158,
     "metadata": {},
     "output_type": "execute_result"
    }
   ],
   "source": [
    "import requests\n",
    "from bs4 import BeautifulSoup\n",
    "url = 'https://www.nasdaq.com/symbol/mcd/competitors'\n",
    "\n",
    "response = requests.get(url)\n",
    "results_page = BeautifulSoup(response.content, 'lxml')\n",
    "industry = results_page.find('div', class_='wrap cf').find_all('h2')[3].get_text()\n",
    "industry\n",
    "# industry from nasdaq"
   ]
  },
  {
   "cell_type": "code",
   "execution_count": 136,
   "metadata": {},
   "outputs": [
    {
     "data": {
      "text/plain": [
       "['SBUX', 'YUM', 'DRI', 'QSR']"
      ]
     },
     "execution_count": 136,
     "metadata": {},
     "output_type": "execute_result"
    }
   ],
   "source": [
    "url = 'https://www.nasdaq.com/symbol/mcd/stock-comparison'\n",
    "response = requests.get(url)\n",
    "results_page = BeautifulSoup(response.content, 'lxml')\n",
    "table = results_page.find('div', class_='genTable thin')\n",
    "competitors = list()\n",
    "for i in range(4):\n",
    "    competitors.append(table.find_all('input')[i].get('value'))\n",
    "competitors\n",
    "# competitors from nasdaq"
   ]
  },
  {
   "cell_type": "code",
   "execution_count": null,
   "metadata": {},
   "outputs": [],
   "source": []
  }
 ],
 "metadata": {
  "kernelspec": {
   "display_name": "Python 3",
   "language": "python",
   "name": "python3"
  },
  "language_info": {
   "codemirror_mode": {
    "name": "ipython",
    "version": 3
   },
   "file_extension": ".py",
   "mimetype": "text/x-python",
   "name": "python",
   "nbconvert_exporter": "python",
   "pygments_lexer": "ipython3",
   "version": "3.6.5"
  }
 },
 "nbformat": 4,
 "nbformat_minor": 2
}
