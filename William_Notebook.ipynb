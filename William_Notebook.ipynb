{
 "cells": [
  {
   "cell_type": "code",
   "execution_count": 2,
   "metadata": {},
   "outputs": [
    {
     "name": "stdout",
     "output_type": "stream",
     "text": [
      "Requirement already satisfied: requests in /usr/local/lib/python3.6/site-packages (2.20.1)\n",
      "Requirement already satisfied: chardet<3.1.0,>=3.0.2 in /usr/local/lib/python3.6/site-packages (from requests) (3.0.4)\n",
      "Requirement already satisfied: idna<2.8,>=2.5 in /usr/local/lib/python3.6/site-packages (from requests) (2.7)\n",
      "Requirement already satisfied: urllib3<1.25,>=1.21.1 in /usr/local/lib/python3.6/site-packages (from requests) (1.24.1)\n",
      "Requirement already satisfied: certifi>=2017.4.17 in /usr/local/lib/python3.6/site-packages (from requests) (2018.10.15)\n",
      "Requirement already satisfied: bs4 in /usr/local/lib/python3.6/site-packages (0.0.1)\n",
      "Requirement already satisfied: beautifulsoup4 in /usr/local/lib/python3.6/site-packages (from bs4) (4.6.3)\n"
     ]
    },
    {
     "data": {
      "text/plain": [
       "\"Apple Inc. designs, manufactures, and markets mobile communication and media devices, and personal computers. It also sells various related software, services, accessories, and third-party digital content and applications. The company offers iPhone, a line of smartphones; iPad, a line of multi-purpose tablets; and Mac, a line of desktop and portable personal computers, as well as iOS, macOS, watchOS, and tvOS operating systems. It also provides iTunes Store, an app store that allows customers to purchase and download, or stream music and TV shows; rent or purchase movies; and download free podcasts, as well as iCloud, a cloud service, which stores music, photos, contacts, calendars, mail, documents, and others. In addition, the company offers AppleCare support services; Apple Pay, a cashless payment service; Apple TV that connects to consumers' TVs and enables them to access digital content directly for streaming video, playing music and games, and viewing photos; and Apple Watch, a personal electronic device, as well as AirPods, Beats products, HomePod, iPod touch, and other Apple-branded and third-party accessories. The company serves consumers, and small and mid-sized businesses; and education, enterprise, and government customers worldwide. It sells and delivers digital content and applications through the iTunes Store, App Store, Mac App Store, TV App Store, Book Store, and Apple Music. The company also sells its products through its retail and online stores, and direct sales force; and third-party cellular network carriers, wholesalers, retailers, and resellers. Apple Inc. was founded in 1977 and is headquartered in Cupertino, California.\""
      ]
     },
     "execution_count": 2,
     "metadata": {},
     "output_type": "execute_result"
    }
   ],
   "source": [
    "!pip install requests\n",
    "!pip install bs4\n",
    "import requests\n",
    "from bs4 import BeautifulSoup\n",
    "url = \"https://finance.yahoo.com/quote/AAPL/profile?p=AAPL\"\n",
    "response = requests.get(url)\n",
    "results_page = BeautifulSoup(response.content,'lxml')\n",
    "summary = results_page.find_all('p',class_=\"Mt(15px) Lh(1.6)\")\n",
    "summary[0].get_text()"
   ]
  },
  {
   "cell_type": "code",
<<<<<<< HEAD
   "execution_count": 79,
=======
   "execution_count": 3,
>>>>>>> e90fd37e6787d0dadfaedd520958fb8e4f787ad4
   "metadata": {},
   "outputs": [
    {
     "name": "stdout",
     "output_type": "stream",
     "text": [
<<<<<<< HEAD
      "[('Market Cap (intraday)', '838.89B'), ('Enterprise Value', '966.56B'), ('Trailing P/E', '14.84'), ('Forward P/E', '11.93'), ('PEG Ratio (5 yr expected)', '1.01'), ('Price/Sales', '3.16'), ('Price/Book', '7.85'), ('Enterprise Value/Revenue', '3.64'), ('Enterprise Value/EBITDA', '11.82'), ('Fiscal Year Ends', 'Sep 29, 2018'), ('Most Recent Quarter', 'Sep 29, 2018'), ('Profit Margin', '22.41%'), ('Operating Margin', '26.69%'), ('Return on Assets', '11.96%'), ('Return on Equity', '49.36%'), ('Revenue', '265.59B'), ('Revenue Per Share', '53.60'), ('Quarterly Revenue Growth', '19.60%'), ('Gross Profit', '101.84B'), ('EBITDA', '81.8B'), ('Net Income Avi to Common', '59.53B'), ('Diluted EPS', '11.91'), ('Quarterly Earnings Growth', '31.80%'), ('Total Cash', '66.3B'), ('Total Cash Per Share', '13.97'), ('Total Debt', '114.48B'), ('Total Debt/Equity', '106.85'), ('Current Ratio', '1.12'), ('Book Value Per Share', '22.53'), ('Operating Cash Flow', '77.43B'), ('Levered Free Cash Flow', '48.42B'), ('Beta (3Y Monthly)', '1.21'), ('52-Week Change', '1.15%'), ('S&P500 52-Week Change', '1.73%'), ('52 Week High', '233.47'), ('52 Week Low', '150.24'), ('50-Day Moving Average', '211.98'), ('200-Day Moving Average', '203.72'), ('Avg Vol (3 month)', '37.03M'), ('Avg Vol (10 day)', '50.27M'), ('Shares Outstanding', '4.75B'), ('Float', '4.62B'), ('% Held by Insiders', '0.07%'), ('% Held by Institutions', '61.16%'), ('Shares Short (Oct 31, 2018)', '36.47M'), ('Short Ratio (Oct 31, 2018)', '1.06'), ('Short % of Float (Oct 31, 2018)', '0.72%'), ('Short % of Shares Outstanding (Oct 31, 2018)', '0.77%'), ('Shares Short (prior month Sep 28, 2018)', '40.2M'), ('Forward Annual Dividend Rate', '2.92'), ('Forward Annual Dividend Yield', '1.51%'), ('Trailing Annual Dividend Rate', '2.72'), ('Trailing Annual Dividend Yield', '1.54%'), ('5 Year Average Dividend Yield', '1.73'), ('Payout Ratio', '22.84%'), ('Dividend Date', 'Nov 15, 2018'), ('Ex-Dividend Date', 'Nov 8, 2018'), ('Last Split Factor (new per old)', '7/1'), ('Last Split Date', 'Jun 9, 2014')]\n"
=======
      "[<table class=\"table-qsp-stats Mt(10px)\" data-reactid=\"11\"><tbody data-reactid=\"12\"><tr data-reactid=\"13\"><td data-reactid=\"14\"><span data-reactid=\"15\">Market Cap (intraday)</span><!-- react-text: 16 --> <!-- /react-text --><!-- react-text: 17 --><!-- /react-text --><sup aria-label=\"Shares outstanding is taken from the most recently filed quarterly or annual report and Market Cap is calculated using shares outstanding.\" data-reactid=\"18\">5</sup></td><td class=\"Fz(s) Fw(500) Ta(end)\" data-reactid=\"19\">844.92B</td></tr><tr data-reactid=\"20\"><td data-reactid=\"21\"><span data-reactid=\"22\">Enterprise Value</span><!-- react-text: 23 --> <!-- /react-text --><!-- react-text: 24 --><!-- /react-text --><sup aria-label=\"Data derived from multiple sources or calculated by Yahoo Finance.\" data-reactid=\"25\">3</sup></td><td class=\"Fz(s) Fw(500) Ta(end)\" data-reactid=\"26\">966.56B</td></tr><tr data-reactid=\"27\"><td data-reactid=\"28\"><span data-reactid=\"29\">Trailing P/E</span><!-- react-text: 30 --> <!-- /react-text --><!-- react-text: 31 --><!-- /react-text --><sup aria-label=\"KS_HELP_SUP_undefined\" data-reactid=\"32\"></sup></td><td class=\"Fz(s) Fw(500) Ta(end)\" data-reactid=\"33\">14.95</td></tr><tr data-reactid=\"34\"><td data-reactid=\"35\"><span data-reactid=\"36\">Forward P/E</span><!-- react-text: 37 --> <!-- /react-text --><!-- react-text: 38 --><!-- /react-text --><sup aria-label=\"Data provided by Thomson Reuters.\" data-reactid=\"39\">1</sup></td><td class=\"Fz(s) Fw(500) Ta(end)\" data-reactid=\"40\">12.01</td></tr><tr data-reactid=\"41\"><td data-reactid=\"42\"><span data-reactid=\"43\">PEG Ratio (5 yr expected)</span><!-- react-text: 44 --> <!-- /react-text --><!-- react-text: 45 --><!-- /react-text --><sup aria-label=\"Data provided by Thomson Reuters.\" data-reactid=\"46\">1</sup></td><td class=\"Fz(s) Fw(500) Ta(end)\" data-reactid=\"47\">1.01</td></tr><tr data-reactid=\"48\"><td data-reactid=\"49\"><span data-reactid=\"50\">Price/Sales</span><!-- react-text: 51 --> <!-- /react-text --><!-- react-text: 52 -->(ttm)<!-- /react-text --><sup aria-label=\"KS_HELP_SUP_undefined\" data-reactid=\"53\"></sup></td><td class=\"Fz(s) Fw(500) Ta(end)\" data-reactid=\"54\">3.18</td></tr><tr data-reactid=\"55\"><td data-reactid=\"56\"><span data-reactid=\"57\">Price/Book</span><!-- react-text: 58 --> <!-- /react-text --><!-- react-text: 59 -->(mrq)<!-- /react-text --><sup aria-label=\"KS_HELP_SUP_undefined\" data-reactid=\"60\"></sup></td><td class=\"Fz(s) Fw(500) Ta(end)\" data-reactid=\"61\">7.90</td></tr><tr data-reactid=\"62\"><td data-reactid=\"63\"><span data-reactid=\"64\">Enterprise Value/Revenue</span><!-- react-text: 65 --> <!-- /react-text --><!-- react-text: 66 --><!-- /react-text --><sup aria-label=\"Data derived from multiple sources or calculated by Yahoo Finance.\" data-reactid=\"67\">3</sup></td><td class=\"Fz(s) Fw(500) Ta(end)\" data-reactid=\"68\">3.64</td></tr><tr data-reactid=\"69\"><td data-reactid=\"70\"><span data-reactid=\"71\">Enterprise Value/EBITDA</span><!-- react-text: 72 --> <!-- /react-text --><!-- react-text: 73 --><!-- /react-text --><sup aria-label=\"EBITDA is calculated by Capital IQ using methodology that may differ from that used by a company in its reporting.\" data-reactid=\"74\">6</sup></td><td class=\"Fz(s) Fw(500) Ta(end)\" data-reactid=\"75\">11.82</td></tr></tbody></table>, <table class=\"table-qsp-stats Mt(10px)\" data-reactid=\"85\"><tbody data-reactid=\"86\"><tr data-reactid=\"87\"><td data-reactid=\"88\"><span data-reactid=\"89\">Fiscal Year Ends</span><!-- react-text: 90 --> <!-- /react-text --><!-- react-text: 91 --><!-- /react-text --><sup aria-label=\"KS_HELP_SUP_undefined\" data-reactid=\"92\"></sup></td><td class=\"Fz(s) Fw(500) Ta(end)\" data-reactid=\"93\">Sep 29, 2018</td></tr><tr data-reactid=\"94\"><td data-reactid=\"95\"><span data-reactid=\"96\">Most Recent Quarter</span><!-- react-text: 97 --> <!-- /react-text --><!-- react-text: 98 -->(mrq)<!-- /react-text --><sup aria-label=\"KS_HELP_SUP_undefined\" data-reactid=\"99\"></sup></td><td class=\"Fz(s) Fw(500) Ta(end)\" data-reactid=\"100\">Sep 29, 2018</td></tr></tbody></table>, <table class=\"table-qsp-stats Mt(10px)\" data-reactid=\"104\"><tbody data-reactid=\"105\"><tr data-reactid=\"106\"><td data-reactid=\"107\"><span data-reactid=\"108\">Profit Margin</span><!-- react-text: 109 --> <!-- /react-text --><!-- react-text: 110 --><!-- /react-text --><sup aria-label=\"KS_HELP_SUP_undefined\" data-reactid=\"111\"></sup></td><td class=\"Fz(s) Fw(500) Ta(end)\" data-reactid=\"112\">22.41%</td></tr><tr data-reactid=\"113\"><td data-reactid=\"114\"><span data-reactid=\"115\">Operating Margin</span><!-- react-text: 116 --> <!-- /react-text --><!-- react-text: 117 -->(ttm)<!-- /react-text --><sup aria-label=\"KS_HELP_SUP_undefined\" data-reactid=\"118\"></sup></td><td class=\"Fz(s) Fw(500) Ta(end)\" data-reactid=\"119\">26.69%</td></tr></tbody></table>, <table class=\"table-qsp-stats Mt(10px)\" data-reactid=\"123\"><tbody data-reactid=\"124\"><tr data-reactid=\"125\"><td data-reactid=\"126\"><span data-reactid=\"127\">Return on Assets</span><!-- react-text: 128 --> <!-- /react-text --><!-- react-text: 129 -->(ttm)<!-- /react-text --><sup aria-label=\"KS_HELP_SUP_undefined\" data-reactid=\"130\"></sup></td><td class=\"Fz(s) Fw(500) Ta(end)\" data-reactid=\"131\">11.96%</td></tr><tr data-reactid=\"132\"><td data-reactid=\"133\"><span data-reactid=\"134\">Return on Equity</span><!-- react-text: 135 --> <!-- /react-text --><!-- react-text: 136 -->(ttm)<!-- /react-text --><sup aria-label=\"KS_HELP_SUP_undefined\" data-reactid=\"137\"></sup></td><td class=\"Fz(s) Fw(500) Ta(end)\" data-reactid=\"138\">49.36%</td></tr></tbody></table>, <table class=\"table-qsp-stats Mt(10px)\" data-reactid=\"142\"><tbody data-reactid=\"143\"><tr data-reactid=\"144\"><td data-reactid=\"145\"><span data-reactid=\"146\">Revenue</span><!-- react-text: 147 --> <!-- /react-text --><!-- react-text: 148 -->(ttm)<!-- /react-text --><sup aria-label=\"KS_HELP_SUP_undefined\" data-reactid=\"149\"></sup></td><td class=\"Fz(s) Fw(500) Ta(end)\" data-reactid=\"150\">265.59B</td></tr><tr data-reactid=\"151\"><td data-reactid=\"152\"><span data-reactid=\"153\">Revenue Per Share</span><!-- react-text: 154 --> <!-- /react-text --><!-- react-text: 155 -->(ttm)<!-- /react-text --><sup aria-label=\"KS_HELP_SUP_undefined\" data-reactid=\"156\"></sup></td><td class=\"Fz(s) Fw(500) Ta(end)\" data-reactid=\"157\">53.60</td></tr><tr data-reactid=\"158\"><td data-reactid=\"159\"><span data-reactid=\"160\">Quarterly Revenue Growth</span><!-- react-text: 161 --> <!-- /react-text --><!-- react-text: 162 -->(yoy)<!-- /react-text --><sup aria-label=\"KS_HELP_SUP_undefined\" data-reactid=\"163\"></sup></td><td class=\"Fz(s) Fw(500) Ta(end)\" data-reactid=\"164\">19.60%</td></tr><tr data-reactid=\"165\"><td data-reactid=\"166\"><span data-reactid=\"167\">Gross Profit</span><!-- react-text: 168 --> <!-- /react-text --><!-- react-text: 169 -->(ttm)<!-- /react-text --><sup aria-label=\"KS_HELP_SUP_undefined\" data-reactid=\"170\"></sup></td><td class=\"Fz(s) Fw(500) Ta(end)\" data-reactid=\"171\">101.84B</td></tr><tr data-reactid=\"172\"><td data-reactid=\"173\"><span data-reactid=\"174\">EBITDA</span><!-- react-text: 175 --> <!-- /react-text --><!-- react-text: 176 --><!-- /react-text --><sup aria-label=\"KS_HELP_SUP_undefined\" data-reactid=\"177\"></sup></td><td class=\"Fz(s) Fw(500) Ta(end)\" data-reactid=\"178\">81.8B</td></tr><tr data-reactid=\"179\"><td data-reactid=\"180\"><span data-reactid=\"181\">Net Income Avi to Common</span><!-- react-text: 182 --> <!-- /react-text --><!-- react-text: 183 -->(ttm)<!-- /react-text --><sup aria-label=\"KS_HELP_SUP_undefined\" data-reactid=\"184\"></sup></td><td class=\"Fz(s) Fw(500) Ta(end)\" data-reactid=\"185\">59.53B</td></tr><tr data-reactid=\"186\"><td data-reactid=\"187\"><span data-reactid=\"188\">Diluted EPS</span><!-- react-text: 189 --> <!-- /react-text --><!-- react-text: 190 -->(ttm)<!-- /react-text --><sup aria-label=\"KS_HELP_SUP_undefined\" data-reactid=\"191\"></sup></td><td class=\"Fz(s) Fw(500) Ta(end)\" data-reactid=\"192\">11.91</td></tr><tr data-reactid=\"193\"><td data-reactid=\"194\"><span data-reactid=\"195\">Quarterly Earnings Growth</span><!-- react-text: 196 --> <!-- /react-text --><!-- react-text: 197 -->(yoy)<!-- /react-text --><sup aria-label=\"KS_HELP_SUP_undefined\" data-reactid=\"198\"></sup></td><td class=\"Fz(s) Fw(500) Ta(end)\" data-reactid=\"199\">31.80%</td></tr></tbody></table>, <table class=\"table-qsp-stats Mt(10px)\" data-reactid=\"203\"><tbody data-reactid=\"204\"><tr data-reactid=\"205\"><td data-reactid=\"206\"><span data-reactid=\"207\">Total Cash</span><!-- react-text: 208 --> <!-- /react-text --><!-- react-text: 209 -->(mrq)<!-- /react-text --><sup aria-label=\"KS_HELP_SUP_undefined\" data-reactid=\"210\"></sup></td><td class=\"Fz(s) Fw(500) Ta(end)\" data-reactid=\"211\">66.3B</td></tr><tr data-reactid=\"212\"><td data-reactid=\"213\"><span data-reactid=\"214\">Total Cash Per Share</span><!-- react-text: 215 --> <!-- /react-text --><!-- react-text: 216 -->(mrq)<!-- /react-text --><sup aria-label=\"KS_HELP_SUP_undefined\" data-reactid=\"217\"></sup></td><td class=\"Fz(s) Fw(500) Ta(end)\" data-reactid=\"218\">13.97</td></tr><tr data-reactid=\"219\"><td data-reactid=\"220\"><span data-reactid=\"221\">Total Debt</span><!-- react-text: 222 --> <!-- /react-text --><!-- react-text: 223 -->(mrq)<!-- /react-text --><sup aria-label=\"KS_HELP_SUP_undefined\" data-reactid=\"224\"></sup></td><td class=\"Fz(s) Fw(500) Ta(end)\" data-reactid=\"225\">114.48B</td></tr><tr data-reactid=\"226\"><td data-reactid=\"227\"><span data-reactid=\"228\">Total Debt/Equity</span><!-- react-text: 229 --> <!-- /react-text --><!-- react-text: 230 -->(mrq)<!-- /react-text --><sup aria-label=\"KS_HELP_SUP_undefined\" data-reactid=\"231\"></sup></td><td class=\"Fz(s) Fw(500) Ta(end)\" data-reactid=\"232\">106.85</td></tr><tr data-reactid=\"233\"><td data-reactid=\"234\"><span data-reactid=\"235\">Current Ratio</span><!-- react-text: 236 --> <!-- /react-text --><!-- react-text: 237 -->(mrq)<!-- /react-text --><sup aria-label=\"KS_HELP_SUP_undefined\" data-reactid=\"238\"></sup></td><td class=\"Fz(s) Fw(500) Ta(end)\" data-reactid=\"239\">1.12</td></tr><tr data-reactid=\"240\"><td data-reactid=\"241\"><span data-reactid=\"242\">Book Value Per Share</span><!-- react-text: 243 --> <!-- /react-text --><!-- react-text: 244 -->(mrq)<!-- /react-text --><sup aria-label=\"KS_HELP_SUP_undefined\" data-reactid=\"245\"></sup></td><td class=\"Fz(s) Fw(500) Ta(end)\" data-reactid=\"246\">22.53</td></tr></tbody></table>, <table class=\"table-qsp-stats Mt(10px)\" data-reactid=\"250\"><tbody data-reactid=\"251\"><tr data-reactid=\"252\"><td data-reactid=\"253\"><span data-reactid=\"254\">Operating Cash Flow</span><!-- react-text: 255 --> <!-- /react-text --><!-- react-text: 256 -->(ttm)<!-- /react-text --><sup aria-label=\"KS_HELP_SUP_undefined\" data-reactid=\"257\"></sup></td><td class=\"Fz(s) Fw(500) Ta(end)\" data-reactid=\"258\">77.43B</td></tr><tr data-reactid=\"259\"><td data-reactid=\"260\"><span data-reactid=\"261\">Levered Free Cash Flow</span><!-- react-text: 262 --> <!-- /react-text --><!-- react-text: 263 -->(ttm)<!-- /react-text --><sup aria-label=\"KS_HELP_SUP_undefined\" data-reactid=\"264\"></sup></td><td class=\"Fz(s) Fw(500) Ta(end)\" data-reactid=\"265\">48.42B</td></tr></tbody></table>, <table class=\"table-qsp-stats Mt(10px)\" data-reactid=\"276\"><tbody data-reactid=\"277\"><tr data-reactid=\"278\"><td data-reactid=\"279\"><span data-reactid=\"280\">Beta (3Y Monthly)</span><!-- react-text: 281 --> <!-- /react-text --><!-- react-text: 282 --><!-- /react-text --><sup aria-label=\"KS_HELP_SUP_undefined\" data-reactid=\"283\"></sup></td><td class=\"Fz(s) Fw(500) Ta(end)\" data-reactid=\"284\">1.21</td></tr><tr data-reactid=\"285\"><td data-reactid=\"286\"><span data-reactid=\"287\">52-Week Change</span><!-- react-text: 288 --> <!-- /react-text --><!-- react-text: 289 --><!-- /react-text --><sup aria-label=\"Data derived from multiple sources or calculated by Yahoo Finance.\" data-reactid=\"290\">3</sup></td><td class=\"Fz(s) Fw(500) Ta(end)\" data-reactid=\"291\">2.22%</td></tr><tr data-reactid=\"292\"><td data-reactid=\"293\"><span data-reactid=\"294\">S&amp;P500 52-Week Change</span><!-- react-text: 295 --> <!-- /react-text --><!-- react-text: 296 --><!-- /react-text --><sup aria-label=\"Data derived from multiple sources or calculated by Yahoo Finance.\" data-reactid=\"297\">3</sup></td><td class=\"Fz(s) Fw(500) Ta(end)\" data-reactid=\"298\">1.65%</td></tr><tr data-reactid=\"299\"><td data-reactid=\"300\"><span data-reactid=\"301\">52 Week High</span><!-- react-text: 302 --> <!-- /react-text --><!-- react-text: 303 --><!-- /react-text --><sup aria-label=\"Data derived from multiple sources or calculated by Yahoo Finance.\" data-reactid=\"304\">3</sup></td><td class=\"Fz(s) Fw(500) Ta(end)\" data-reactid=\"305\">233.47</td></tr><tr data-reactid=\"306\"><td data-reactid=\"307\"><span data-reactid=\"308\">52 Week Low</span><!-- react-text: 309 --> <!-- /react-text --><!-- react-text: 310 --><!-- /react-text --><sup aria-label=\"Data derived from multiple sources or calculated by Yahoo Finance.\" data-reactid=\"311\">3</sup></td><td class=\"Fz(s) Fw(500) Ta(end)\" data-reactid=\"312\">150.24</td></tr><tr data-reactid=\"313\"><td data-reactid=\"314\"><span data-reactid=\"315\">50-Day Moving Average</span><!-- react-text: 316 --> <!-- /react-text --><!-- react-text: 317 --><!-- /react-text --><sup aria-label=\"Data derived from multiple sources or calculated by Yahoo Finance.\" data-reactid=\"318\">3</sup></td><td class=\"Fz(s) Fw(500) Ta(end)\" data-reactid=\"319\">211.98</td></tr><tr data-reactid=\"320\"><td data-reactid=\"321\"><span data-reactid=\"322\">200-Day Moving Average</span><!-- react-text: 323 --> <!-- /react-text --><!-- react-text: 324 --><!-- /react-text --><sup aria-label=\"Data derived from multiple sources or calculated by Yahoo Finance.\" data-reactid=\"325\">3</sup></td><td class=\"Fz(s) Fw(500) Ta(end)\" data-reactid=\"326\">203.72</td></tr></tbody></table>, <table class=\"table-qsp-stats Mt(10px)\" data-reactid=\"330\"><tbody data-reactid=\"331\"><tr data-reactid=\"332\"><td data-reactid=\"333\"><span data-reactid=\"334\">Avg Vol (3 month)</span><!-- react-text: 335 --> <!-- /react-text --><!-- react-text: 336 --><!-- /react-text --><sup aria-label=\"Data derived from multiple sources or calculated by Yahoo Finance.\" data-reactid=\"337\">3</sup></td><td class=\"Fz(s) Fw(500) Ta(end)\" data-reactid=\"338\">37.03M</td></tr><tr data-reactid=\"339\"><td data-reactid=\"340\"><span data-reactid=\"341\">Avg Vol (10 day)</span><!-- react-text: 342 --> <!-- /react-text --><!-- react-text: 343 --><!-- /react-text --><sup aria-label=\"Data derived from multiple sources or calculated by Yahoo Finance.\" data-reactid=\"344\">3</sup></td><td class=\"Fz(s) Fw(500) Ta(end)\" data-reactid=\"345\">50.27M</td></tr><tr data-reactid=\"346\"><td data-reactid=\"347\"><span data-reactid=\"348\">Shares Outstanding</span><!-- react-text: 349 --> <!-- /react-text --><!-- react-text: 350 --><!-- /react-text --><sup aria-label=\"Shares outstanding is taken from the most recently filed quarterly or annual report and Market Cap is calculated using shares outstanding.\" data-reactid=\"351\">5</sup></td><td class=\"Fz(s) Fw(500) Ta(end)\" data-reactid=\"352\">4.75B</td></tr><tr data-reactid=\"353\"><td data-reactid=\"354\"><span data-reactid=\"355\">Float</span><!-- react-text: 356 --> <!-- /react-text --><!-- react-text: 357 --><!-- /react-text --><sup aria-label=\"KS_HELP_SUP_undefined\" data-reactid=\"358\"></sup></td><td class=\"Fz(s) Fw(500) Ta(end)\" data-reactid=\"359\">4.62B</td></tr><tr data-reactid=\"360\"><td data-reactid=\"361\"><span data-reactid=\"362\">% Held by Insiders</span><!-- react-text: 363 --> <!-- /react-text --><!-- react-text: 364 --><!-- /react-text --><sup aria-label=\"Data provided by Thomson Reuters.\" data-reactid=\"365\">1</sup></td><td class=\"Fz(s) Fw(500) Ta(end)\" data-reactid=\"366\">0.07%</td></tr><tr data-reactid=\"367\"><td data-reactid=\"368\"><span data-reactid=\"369\">% Held by Institutions</span><!-- react-text: 370 --> <!-- /react-text --><!-- react-text: 371 --><!-- /react-text --><sup aria-label=\"Data provided by Thomson Reuters.\" data-reactid=\"372\">1</sup></td><td class=\"Fz(s) Fw(500) Ta(end)\" data-reactid=\"373\">61.16%</td></tr><tr data-reactid=\"374\"><td data-reactid=\"375\"><span data-reactid=\"376\">Shares Short (Oct 31, 2018)</span><!-- react-text: 377 --> <!-- /react-text --><!-- react-text: 378 --><!-- /react-text --><sup aria-label=\"Data provided by Morningstar, Inc.\" data-reactid=\"379\">4</sup></td><td class=\"Fz(s) Fw(500) Ta(end)\" data-reactid=\"380\">36.47M</td></tr><tr data-reactid=\"381\"><td data-reactid=\"382\"><span data-reactid=\"383\">Short Ratio (Oct 31, 2018)</span><!-- react-text: 384 --> <!-- /react-text --><!-- react-text: 385 --><!-- /react-text --><sup aria-label=\"Data provided by Morningstar, Inc.\" data-reactid=\"386\">4</sup></td><td class=\"Fz(s) Fw(500) Ta(end)\" data-reactid=\"387\">1.06</td></tr><tr data-reactid=\"388\"><td data-reactid=\"389\"><span data-reactid=\"390\">Short % of Float (Oct 31, 2018)</span><!-- react-text: 391 --> <!-- /react-text --><!-- react-text: 392 --><!-- /react-text --><sup aria-label=\"Data provided by Morningstar, Inc.\" data-reactid=\"393\">4</sup></td><td class=\"Fz(s) Fw(500) Ta(end)\" data-reactid=\"394\">0.72%</td></tr><tr data-reactid=\"395\"><td data-reactid=\"396\"><span data-reactid=\"397\">Short % of Shares Outstanding (Oct 31, 2018)</span><!-- react-text: 398 --> <!-- /react-text --><!-- react-text: 399 --><!-- /react-text --><sup aria-label=\"Data provided by Morningstar, Inc.\" data-reactid=\"400\">4</sup></td><td class=\"Fz(s) Fw(500) Ta(end)\" data-reactid=\"401\">0.77%</td></tr><tr data-reactid=\"402\"><td data-reactid=\"403\"><span data-reactid=\"404\">Shares Short (prior month Sep 28, 2018)</span><!-- react-text: 405 --> <!-- /react-text --><!-- react-text: 406 --><!-- /react-text --><sup aria-label=\"Data provided by Morningstar, Inc.\" data-reactid=\"407\">4</sup></td><td class=\"Fz(s) Fw(500) Ta(end)\" data-reactid=\"408\">40.2M</td></tr></tbody></table>, <table class=\"table-qsp-stats Mt(10px)\" data-reactid=\"412\"><tbody data-reactid=\"413\"><tr data-reactid=\"414\"><td data-reactid=\"415\"><span data-reactid=\"416\">Forward Annual Dividend Rate</span><!-- react-text: 417 --> <!-- /react-text --><!-- react-text: 418 --><!-- /react-text --><sup aria-label=\"Data provided by Morningstar, Inc.\" data-reactid=\"419\">4</sup></td><td class=\"Fz(s) Fw(500) Ta(end)\" data-reactid=\"420\">2.92</td></tr><tr data-reactid=\"421\"><td data-reactid=\"422\"><span data-reactid=\"423\">Forward Annual Dividend Yield</span><!-- react-text: 424 --> <!-- /react-text --><!-- react-text: 425 --><!-- /react-text --><sup aria-label=\"Data provided by Morningstar, Inc.\" data-reactid=\"426\">4</sup></td><td class=\"Fz(s) Fw(500) Ta(end)\" data-reactid=\"427\">1.51%</td></tr><tr data-reactid=\"428\"><td data-reactid=\"429\"><span data-reactid=\"430\">Trailing Annual Dividend Rate</span><!-- react-text: 431 --> <!-- /react-text --><!-- react-text: 432 --><!-- /react-text --><sup aria-label=\"Data derived from multiple sources or calculated by Yahoo Finance.\" data-reactid=\"433\">3</sup></td><td class=\"Fz(s) Fw(500) Ta(end)\" data-reactid=\"434\">2.72</td></tr><tr data-reactid=\"435\"><td data-reactid=\"436\"><span data-reactid=\"437\">Trailing Annual Dividend Yield</span><!-- react-text: 438 --> <!-- /react-text --><!-- react-text: 439 --><!-- /react-text --><sup aria-label=\"Data derived from multiple sources or calculated by Yahoo Finance.\" data-reactid=\"440\">3</sup></td><td class=\"Fz(s) Fw(500) Ta(end)\" data-reactid=\"441\">1.54%</td></tr><tr data-reactid=\"442\"><td data-reactid=\"443\"><span data-reactid=\"444\">5 Year Average Dividend Yield</span><!-- react-text: 445 --> <!-- /react-text --><!-- react-text: 446 --><!-- /react-text --><sup aria-label=\"Data provided by Morningstar, Inc.\" data-reactid=\"447\">4</sup></td><td class=\"Fz(s) Fw(500) Ta(end)\" data-reactid=\"448\">1.73</td></tr><tr data-reactid=\"449\"><td data-reactid=\"450\"><span data-reactid=\"451\">Payout Ratio</span><!-- react-text: 452 --> <!-- /react-text --><!-- react-text: 453 --><!-- /react-text --><sup aria-label=\"Data provided by Morningstar, Inc.\" data-reactid=\"454\">4</sup></td><td class=\"Fz(s) Fw(500) Ta(end)\" data-reactid=\"455\">22.84%</td></tr><tr data-reactid=\"456\"><td data-reactid=\"457\"><span data-reactid=\"458\">Dividend Date</span><!-- react-text: 459 --> <!-- /react-text --><!-- react-text: 460 --><!-- /react-text --><sup aria-label=\"Data derived from multiple sources or calculated by Yahoo Finance.\" data-reactid=\"461\">3</sup></td><td class=\"Fz(s) Fw(500) Ta(end)\" data-reactid=\"462\">Nov 15, 2018</td></tr><tr data-reactid=\"463\"><td data-reactid=\"464\"><span data-reactid=\"465\">Ex-Dividend Date</span><!-- react-text: 466 --> <!-- /react-text --><!-- react-text: 467 --><!-- /react-text --><sup aria-label=\"Data provided by Morningstar, Inc.\" data-reactid=\"468\">4</sup></td><td class=\"Fz(s) Fw(500) Ta(end)\" data-reactid=\"469\">Nov 8, 2018</td></tr><tr data-reactid=\"470\"><td data-reactid=\"471\"><span data-reactid=\"472\">Last Split Factor (new per old)</span><!-- react-text: 473 --> <!-- /react-text --><!-- react-text: 474 --><!-- /react-text --><sup aria-label=\"Data provided by EDGAR Online.\" data-reactid=\"475\">2</sup></td><td class=\"Fz(s) Fw(500) Ta(end)\" data-reactid=\"476\">7/1</td></tr><tr data-reactid=\"477\"><td data-reactid=\"478\"><span data-reactid=\"479\">Last Split Date</span><!-- react-text: 480 --> <!-- /react-text --><!-- react-text: 481 --><!-- /react-text --><sup aria-label=\"Data derived from multiple sources or calculated by Yahoo Finance.\" data-reactid=\"482\">3</sup></td><td class=\"Fz(s) Fw(500) Ta(end)\" data-reactid=\"483\">Jun 9, 2014</td></tr></tbody></table>]\n"
>>>>>>> e90fd37e6787d0dadfaedd520958fb8e4f787ad4
     ]
    }
   ],
   "source": [
    "#extract financial stats for a stock\n",
    "url = \"https://finance.yahoo.com/quote/AAPL/key-statistics?p=AAPL\"\n",
    "response = requests.get(url)\n",
    "results_page = BeautifulSoup(response.content,'lxml')\n",
    "stats_lists = results_page.find_all('table')\n",
    "test_list = list()\n",
    "for i in stats_lists:\n",
    "        stat_name = i.find_all('span')\n",
    "        stock_stat = i.find_all('td',class_='Fz(s) Fw(500) Ta(end)')\n",
    "        for j in range(len(stat_name)):\n",
    "            test_list.append((stat_name[j].get_text(),stock_stat[j].get_text()))\n",
    "print(test_list)\n"
   ]
  },
  {
   "cell_type": "code",
   "execution_count": 70,
   "metadata": {},
   "outputs": [
    {
     "data": {
      "text/plain": [
<<<<<<< HEAD
       "[['Apple Is In Talks to Give Veterans Access to Electronic Medical Records 3rd Update DJ Business New',\n",
       "  'https://eresearch.fidelity.com/eresearch/evaluate/news/basicNewsStory.jhtml?symbols=AAPL&storyid=201811211543DOWJONESDJONLINE000307&provider=DOWJONES&product=DJONLINE&sb=1'],\n",
       " ['US STOCKS Wall St climbs as tech internet stocks bounce back Reuter',\n",
       "  'https://eresearch.fidelity.com/eresearch/evaluate/news/basicNewsStory.jhtml?symbols=AAPL&storyid=201811211537RTRSNEWSCOMBINED_L2N1XW1HB_1&provider=RTRSNEWS&product=COMBINED&sb=1'],\n",
       " ['BRIEF Apple Considered New Connected TV Dongle The Information Reuter',\n",
       "  'https://eresearch.fidelity.com/eresearch/evaluate/news/basicNewsStory.jhtml?symbols=AAPL&storyid=201811211529RTRSNEWSCOMBINED_FWN1XW0O4_1&provider=RTRSNEWS&product=COMBINED&sb=1'],\n",
       " ['GLOBAL MARKETS Stocks rise on tech strength oil bounces back from rout Reuter',\n",
       "  'https://eresearch.fidelity.com/eresearch/evaluate/news/basicNewsStory.jhtml?symbols=AAPL&storyid=201811211438RTRSNEWSCOMBINED_L2N1XW155_1&provider=RTRSNEWS&product=COMBINED&sb=1'],\n",
       " ['US STOCKS Wall Street recovers as technology stocks bounce back Reuter',\n",
       "  'https://eresearch.fidelity.com/eresearch/evaluate/news/basicNewsStory.jhtml?symbols=AAPL&storyid=201811211306RTRSNEWSCOMBINED_L4N1XW4H4_1&provider=RTRSNEWS&product=COMBINED&sb=1']]"
      ]
     },
     "execution_count": 70,
=======
       "[('Market Cap (intraday)', '844.92B'),\n",
       " ('Fiscal Year Ends', 'Sep 29, 2018'),\n",
       " ('Profit Margin', '22.41%'),\n",
       " ('Return on Assets', '11.96%'),\n",
       " ('Revenue', '265.59B'),\n",
       " ('Total Cash', '66.3B'),\n",
       " ('Operating Cash Flow', '77.43B'),\n",
       " ('Beta (3Y Monthly)', '1.21'),\n",
       " ('Avg Vol (3 month)', '37.03M'),\n",
       " ('Forward Annual Dividend Rate', '2.92')]"
      ]
     },
     "execution_count": 3,
>>>>>>> e90fd37e6787d0dadfaedd520958fb8e4f787ad4
     "metadata": {},
     "output_type": "execute_result"
    }
   ],
   "source": [
    "#extracting related news to the stock\n",
    "\n",
    "url = \"https://eresearch.fidelity.com/eresearch/evaluate/snapshot.jhtml?symbols=AAPL\"\n",
    "response = requests.get(url)\n",
    "results_page = BeautifulSoup(response.content,'lxml')\n",
    "summary = results_page.find_all('li',class_ = \"news-item\")\n",
    "newslist = list()\n",
    "import re\n",
    "for i in summary:\n",
    "    newstext = re.sub('[^A-Za-z0-9]+', ' ', i.get_text())\n",
    "    newsurl = \"https://eresearch.fidelity.com\" + i.find_all('a')[1].get('href')\n",
    "    newslist.append([newstext[1:re.search(\" ET \",newstext).span()[0] - 9],newsurl])\n",
    "newslist\n"
   ]
  },
  {
   "cell_type": "code",
   "execution_count": 60,
   "metadata": {},
   "outputs": [
    {
     "name": "stdout",
     "output_type": "stream",
     "text": [
      "<li class=\"news-item\">\n",
      "<table border=\"0\" cellpadding=\"0\" cellspacing=\"0\">\n",
      "<tr>\n",
      "<td valign=\"top\">\n",
      "<a href=\"javascript:showDetail('image2','news-detail-2');\">\n",
      "<img alt=\"Show article details.\" border=\"0\" class=\"news-expand-plus\" height=\"12\" id=\"image2\" src=\"https://www.fidelity.com/webcontent/ap002388-eresearch-content/18.09.0/images/clear.gif\" title=\"Show article details.\" width=\"12\"/>\n",
      "</a>\n",
      "</td>\n",
      "<td valign=\"top\"><h3>\n",
      "<a href=\"/eresearch/evaluate/news/basicNewsStory.jhtml?symbols=AAPL&amp;storyid=201811211537RTRSNEWSCOMBINED_L2N1XW1HB_1&amp;provider=RTRSNEWS&amp;product=COMBINED&amp;sb=1\">\n",
      "\t\t\t\t\t\t\t\t\t  US STOCKS-Wall St climbs as tech, internet stocks bounce back\n",
      "\t\t\t\t\t\t\t\t  </a></h3>\n",
      "<div class=\"spacing-div_4X0\"></div>\n",
      "<div class=\"source\">\n",
      "\t\t\t\t\t\t\t\t\t  Reuters – \n",
      "\t\t\t\t\t\t\t\t\t  \n",
      "\n",
      "\n",
      "\n",
      "\n",
      "\n",
      "\n",
      "\n",
      "\n",
      "\t\n",
      "\t\t3:37 PM ET 11/21/2018\n",
      "\t\n",
      "\t\n",
      "\n",
      "\n",
      "\t\t\t\t\t\t\t\t  </div>\n",
      "<div class=\"news-detail-hide\" id=\"news-detail-2\">\n",
      "<div class=\"spacing-div_4X0\"></div>\n",
      "<p>* Foot Locker (<span fmr-attach-component=\"fmr.qnr.components.snapshot.Mini\" fmr-param-symbol=\"FL\">FL</span>) jumps on comparative sales beat. * Autodesk (<span fmr-attach-component=\"fmr.qnr.components.snapshot.Mini\" fmr-param-symbol=\"ADSK\">ADSK</span>) surges after results top estimates. * Energy leads gains among 11 S&amp;P sectors as oil recovers. * Indexes rise: Dow 0.4 pct, S&amp;P 0.7 pct, Nasdaq 1.3 pct. By Caroline Valetkevitch.</p>\n",
      "</div>\n",
      "<div class=\"spacing-div_13X0\"></div>\n",
      "</td>\n",
      "</tr>\n",
      "</table>\n",
      "</li>\n",
      "https://eresearch.fidelity.com/eresearch/evaluate/news/basicNewsStory.jhtml?symbols=AAPL&storyid=201811211537RTRSNEWSCOMBINED_L2N1XW1HB_1&provider=RTRSNEWS&product=COMBINED&sb=1\n"
     ]
    }
   ],
   "source": [
    "url = \"https://eresearch.fidelity.com/eresearch/evaluate/snapshot.jhtml?symbols=AAPL\"\n",
    "response = requests.get(url)\n",
    "results_page = BeautifulSoup(response.content,'lxml')\n",
    "summary = results_page.find_all('li',class_ = \"news-item\")\n",
    "print(summary[1])\n",
    "print(\"https://eresearch.fidelity.com\" + summary[1].find_all('a')[1].get('href'))"
   ]
  }
 ],
 "metadata": {
  "kernelspec": {
   "display_name": "Python 3",
   "language": "python",
   "name": "python3"
  },
  "language_info": {
   "codemirror_mode": {
    "name": "ipython",
    "version": 3
   },
   "file_extension": ".py",
   "mimetype": "text/x-python",
   "name": "python",
   "nbconvert_exporter": "python",
   "pygments_lexer": "ipython3",
   "version": "3.6.3"
  }
 },
 "nbformat": 4,
 "nbformat_minor": 2
}
