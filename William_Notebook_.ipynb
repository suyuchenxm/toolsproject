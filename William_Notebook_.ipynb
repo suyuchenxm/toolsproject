{
 "cells": [
  {
   "cell_type": "code",
   "execution_count": 1,
   "metadata": {},
   "outputs": [
    {
     "data": {
      "text/plain": [
       "\"Apple Inc. designs, manufactures, and markets mobile communication and media devices, and personal computers. It also sells various related software, services, accessories, and third-party digital content and applications. The company offers iPhone, a line of smartphones; iPad, a line of multi-purpose tablets; and Mac, a line of desktop and portable personal computers, as well as iOS, macOS, watchOS, and tvOS operating systems. It also provides iTunes Store, an app store that allows customers to purchase and download, or stream music and TV shows; rent or purchase movies; and download free podcasts, as well as iCloud, a cloud service, which stores music, photos, contacts, calendars, mail, documents, and others. In addition, the company offers AppleCare support services; Apple Pay, a cashless payment service; Apple TV that connects to consumers' TVs and enables them to access digital content directly for streaming video, playing music and games, and viewing photos; and Apple Watch, a personal electronic device, as well as AirPods, Beats products, HomePod, iPod touch, and other Apple-branded and third-party accessories. The company serves consumers, and small and mid-sized businesses; and education, enterprise, and government customers worldwide. It sells and delivers digital content and applications through the iTunes Store, App Store, Mac App Store, TV App Store, Book Store, and Apple Music. The company also sells its products through its retail and online stores, and direct sales force; and third-party cellular network carriers, wholesalers, retailers, and resellers. Apple Inc. was founded in 1977 and is headquartered in Cupertino, California.\""
      ]
     },
     "execution_count": 1,
     "metadata": {},
     "output_type": "execute_result"
    }
   ],
   "source": [
    "#!pip install requests\n",
    "#!pip install bs4\n",
    "import requests\n",
    "from bs4 import BeautifulSoup\n",
    "url = \"https://finance.yahoo.com/quote/AAPL/profile?p=AAPL\"\n",
    "response = requests.get(url)\n",
    "results_page = BeautifulSoup(response.content,'lxml')\n",
    "summary = results_page.find_all('p',class_=\"Mt(15px) Lh(1.6)\")\n",
    "summary[0].get_text()"
   ]
  },
  {
   "cell_type": "code",
   "execution_count": 79,
   "metadata": {},
   "outputs": [
    {
     "name": "stdout",
     "output_type": "stream",
     "text": [
      "[('Market Cap (intraday)', '838.89B'), ('Enterprise Value', '966.56B'), ('Trailing P/E', '14.84'), ('Forward P/E', '11.93'), ('PEG Ratio (5 yr expected)', '1.01'), ('Price/Sales', '3.16'), ('Price/Book', '7.85'), ('Enterprise Value/Revenue', '3.64'), ('Enterprise Value/EBITDA', '11.82'), ('Fiscal Year Ends', 'Sep 29, 2018'), ('Most Recent Quarter', 'Sep 29, 2018'), ('Profit Margin', '22.41%'), ('Operating Margin', '26.69%'), ('Return on Assets', '11.96%'), ('Return on Equity', '49.36%'), ('Revenue', '265.59B'), ('Revenue Per Share', '53.60'), ('Quarterly Revenue Growth', '19.60%'), ('Gross Profit', '101.84B'), ('EBITDA', '81.8B'), ('Net Income Avi to Common', '59.53B'), ('Diluted EPS', '11.91'), ('Quarterly Earnings Growth', '31.80%'), ('Total Cash', '66.3B'), ('Total Cash Per Share', '13.97'), ('Total Debt', '114.48B'), ('Total Debt/Equity', '106.85'), ('Current Ratio', '1.12'), ('Book Value Per Share', '22.53'), ('Operating Cash Flow', '77.43B'), ('Levered Free Cash Flow', '48.42B'), ('Beta (3Y Monthly)', '1.21'), ('52-Week Change', '1.15%'), ('S&P500 52-Week Change', '1.73%'), ('52 Week High', '233.47'), ('52 Week Low', '150.24'), ('50-Day Moving Average', '211.98'), ('200-Day Moving Average', '203.72'), ('Avg Vol (3 month)', '37.03M'), ('Avg Vol (10 day)', '50.27M'), ('Shares Outstanding', '4.75B'), ('Float', '4.62B'), ('% Held by Insiders', '0.07%'), ('% Held by Institutions', '61.16%'), ('Shares Short (Oct 31, 2018)', '36.47M'), ('Short Ratio (Oct 31, 2018)', '1.06'), ('Short % of Float (Oct 31, 2018)', '0.72%'), ('Short % of Shares Outstanding (Oct 31, 2018)', '0.77%'), ('Shares Short (prior month Sep 28, 2018)', '40.2M'), ('Forward Annual Dividend Rate', '2.92'), ('Forward Annual Dividend Yield', '1.51%'), ('Trailing Annual Dividend Rate', '2.72'), ('Trailing Annual Dividend Yield', '1.54%'), ('5 Year Average Dividend Yield', '1.73'), ('Payout Ratio', '22.84%'), ('Dividend Date', 'Nov 15, 2018'), ('Ex-Dividend Date', 'Nov 8, 2018'), ('Last Split Factor (new per old)', '7/1'), ('Last Split Date', 'Jun 9, 2014')]\n"
     ]
    }
   ],
   "source": [
    "#extract financial stats for a stock\n",
    "url = \"https://finance.yahoo.com/quote/AAPL/key-statistics?p=AAPL\"\n",
    "response = requests.get(url)\n",
    "results_page = BeautifulSoup(response.content,'lxml')\n",
    "stats_lists = results_page.find_all('table')\n",
    "test_list = list()\n",
    "for i in stats_lists:\n",
    "        stat_name = i.find_all('span')\n",
    "        stock_stat = i.find_all('td',class_='Fz(s) Fw(500) Ta(end)')\n",
    "        for j in range(len(stat_name)):\n",
    "            test_list.append((stat_name[j].get_text(),stock_stat[j].get_text()))\n",
    "print(test_list)\n"
   ]
  },
  {
   "cell_type": "code",
   "execution_count": 70,
   "metadata": {},
   "outputs": [
    {
     "data": {
      "text/plain": [
       "[['Apple Is In Talks to Give Veterans Access to Electronic Medical Records 3rd Update DJ Business New',\n",
       "  'https://eresearch.fidelity.com/eresearch/evaluate/news/basicNewsStory.jhtml?symbols=AAPL&storyid=201811211543DOWJONESDJONLINE000307&provider=DOWJONES&product=DJONLINE&sb=1'],\n",
       " ['US STOCKS Wall St climbs as tech internet stocks bounce back Reuter',\n",
       "  'https://eresearch.fidelity.com/eresearch/evaluate/news/basicNewsStory.jhtml?symbols=AAPL&storyid=201811211537RTRSNEWSCOMBINED_L2N1XW1HB_1&provider=RTRSNEWS&product=COMBINED&sb=1'],\n",
       " ['BRIEF Apple Considered New Connected TV Dongle The Information Reuter',\n",
       "  'https://eresearch.fidelity.com/eresearch/evaluate/news/basicNewsStory.jhtml?symbols=AAPL&storyid=201811211529RTRSNEWSCOMBINED_FWN1XW0O4_1&provider=RTRSNEWS&product=COMBINED&sb=1'],\n",
       " ['GLOBAL MARKETS Stocks rise on tech strength oil bounces back from rout Reuter',\n",
       "  'https://eresearch.fidelity.com/eresearch/evaluate/news/basicNewsStory.jhtml?symbols=AAPL&storyid=201811211438RTRSNEWSCOMBINED_L2N1XW155_1&provider=RTRSNEWS&product=COMBINED&sb=1'],\n",
       " ['US STOCKS Wall Street recovers as technology stocks bounce back Reuter',\n",
       "  'https://eresearch.fidelity.com/eresearch/evaluate/news/basicNewsStory.jhtml?symbols=AAPL&storyid=201811211306RTRSNEWSCOMBINED_L4N1XW4H4_1&provider=RTRSNEWS&product=COMBINED&sb=1']]"
      ]
     },
     "execution_count": 70,
     "metadata": {},
     "output_type": "execute_result"
    }
   ],
   "source": [
    "#extracting related news to the stock\n",
    "\n",
    "url = \"https://eresearch.fidelity.com/eresearch/evaluate/snapshot.jhtml?symbols=AAPL\"\n",
    "response = requests.get(url)\n",
    "results_page = BeautifulSoup(response.content,'lxml')\n",
    "summary = results_page.find_all('li',class_ = \"news-item\")\n",
    "newslist = list()\n",
    "import re\n",
    "for i in summary:\n",
    "    newstext = re.sub('[^A-Za-z0-9]+', ' ', i.get_text())\n",
    "    newsurl = \"https://eresearch.fidelity.com\" + i.find_all('a')[1].get('href')\n",
    "    newslist.append([newstext[1:re.search(\" ET \",newstext).span()[0] - 9],newsurl])\n",
    "newslist\n"
   ]
  },
  {
   "cell_type": "code",
   "execution_count": 60,
   "metadata": {},
   "outputs": [
    {
     "name": "stdout",
     "output_type": "stream",
     "text": [
      "<li class=\"news-item\">\n",
      "<table border=\"0\" cellpadding=\"0\" cellspacing=\"0\">\n",
      "<tr>\n",
      "<td valign=\"top\">\n",
      "<a href=\"javascript:showDetail('image2','news-detail-2');\">\n",
      "<img alt=\"Show article details.\" border=\"0\" class=\"news-expand-plus\" height=\"12\" id=\"image2\" src=\"https://www.fidelity.com/webcontent/ap002388-eresearch-content/18.09.0/images/clear.gif\" title=\"Show article details.\" width=\"12\"/>\n",
      "</a>\n",
      "</td>\n",
      "<td valign=\"top\"><h3>\n",
      "<a href=\"/eresearch/evaluate/news/basicNewsStory.jhtml?symbols=AAPL&amp;storyid=201811211537RTRSNEWSCOMBINED_L2N1XW1HB_1&amp;provider=RTRSNEWS&amp;product=COMBINED&amp;sb=1\">\n",
      "\t\t\t\t\t\t\t\t\t  US STOCKS-Wall St climbs as tech, internet stocks bounce back\n",
      "\t\t\t\t\t\t\t\t  </a></h3>\n",
      "<div class=\"spacing-div_4X0\"></div>\n",
      "<div class=\"source\">\n",
      "\t\t\t\t\t\t\t\t\t  Reuters – \n",
      "\t\t\t\t\t\t\t\t\t  \n",
      "\n",
      "\n",
      "\n",
      "\n",
      "\n",
      "\n",
      "\n",
      "\n",
      "\t\n",
      "\t\t3:37 PM ET 11/21/2018\n",
      "\t\n",
      "\t\n",
      "\n",
      "\n",
      "\t\t\t\t\t\t\t\t  </div>\n",
      "<div class=\"news-detail-hide\" id=\"news-detail-2\">\n",
      "<div class=\"spacing-div_4X0\"></div>\n",
      "<p>* Foot Locker (<span fmr-attach-component=\"fmr.qnr.components.snapshot.Mini\" fmr-param-symbol=\"FL\">FL</span>) jumps on comparative sales beat. * Autodesk (<span fmr-attach-component=\"fmr.qnr.components.snapshot.Mini\" fmr-param-symbol=\"ADSK\">ADSK</span>) surges after results top estimates. * Energy leads gains among 11 S&amp;P sectors as oil recovers. * Indexes rise: Dow 0.4 pct, S&amp;P 0.7 pct, Nasdaq 1.3 pct. By Caroline Valetkevitch.</p>\n",
      "</div>\n",
      "<div class=\"spacing-div_13X0\"></div>\n",
      "</td>\n",
      "</tr>\n",
      "</table>\n",
      "</li>\n",
      "https://eresearch.fidelity.com/eresearch/evaluate/news/basicNewsStory.jhtml?symbols=AAPL&storyid=201811211537RTRSNEWSCOMBINED_L2N1XW1HB_1&provider=RTRSNEWS&product=COMBINED&sb=1\n"
     ]
    }
   ],
   "source": [
    "url = \"https://eresearch.fidelity.com/eresearch/evaluate/snapshot.jhtml?symbols=AAPL\"\n",
    "response = requests.get(url)\n",
    "results_page = BeautifulSoup(response.content,'lxml')\n",
    "summary = results_page.find_all('li',class_ = \"news-item\")\n",
    "print(summary[1])\n",
    "print(\"https://eresearch.fidelity.com\" + summary[1].find_all('a')[1].get('href'))"
   ]
  },
  {
   "cell_type": "code",
   "execution_count": 27,
   "metadata": {},
   "outputs": [
    {
     "data": {
      "text/plain": [
       "{'Earnings Estimate':   Earnings Estimate  Current Qtr. (Dec 2018)  Next Qtr. (Mar 2019)  \\\n",
       " 0   No. of Analysts                    39.00                 24.00   \n",
       " 1     Avg. Estimate                     0.24                  0.91   \n",
       " 2      Low Estimate                     0.17                  0.62   \n",
       " 3     High Estimate                     0.32                  1.33   \n",
       " 4      Year Ago EPS                     0.41                  0.64   \n",
       " \n",
       "    Current Year (2018)  Next Year (2019)  \n",
       " 0                42.00             44.00  \n",
       " 1                 2.66              4.20  \n",
       " 2                 2.55              2.26  \n",
       " 3                 3.20              6.40  \n",
       " 4                 1.25              2.66  ,\n",
       " 'Revenue Estimate':           Revenue Estimate Current Qtr. (Dec 2018) Next Qtr. (Mar 2019)  \\\n",
       " 0          No. of Analysts                      38                   22   \n",
       " 1            Avg. Estimate                   4.21B                4.61B   \n",
       " 2             Low Estimate                   4.18B                4.41B   \n",
       " 3            High Estimate                    4.3B                4.92B   \n",
       " 4           Year Ago Sales                   3.29B                 3.7B   \n",
       " 5  Sales Growth (year/est)                  28.10%               24.50%   \n",
       " \n",
       "   Current Year (2018) Next Year (2019)  \n",
       " 0                  39               41  \n",
       " 1              15.82B            19.9B  \n",
       " 2              15.79B           19.07B  \n",
       " 3               15.9B           20.98B  \n",
       " 4              11.69B           15.82B  \n",
       " 5              35.30%           25.80%  ,\n",
       " 'Earnings History':   Earnings History 12/30/2017 3/30/2018 6/29/2018 9/29/2018\n",
       " 0         EPS Est.       0.41      0.64      0.79      0.68\n",
       " 1       EPS Actual       0.41      0.64      0.85      0.89\n",
       " 2       Difference          0         0      0.06      0.21\n",
       " 3       Surprise %      0.00%     0.00%     7.60%    30.90%,\n",
       " 'EPS Trend':           EPS Trend  Current Qtr. (Dec 2018)  Next Qtr. (Mar 2019)  \\\n",
       " 0  Current Estimate                     0.24                  0.91   \n",
       " 1        7 Days Ago                     0.24                  0.92   \n",
       " 2       30 Days Ago                     0.24                  0.92   \n",
       " 3       60 Days Ago                     0.50                  1.09   \n",
       " 4       90 Days Ago                     0.51                  1.09   \n",
       " \n",
       "    Current Year (2018)  Next Year (2019)  \n",
       " 0                 2.66              4.20  \n",
       " 1                 2.66              4.20  \n",
       " 2                 2.66              4.19  \n",
       " 3                 2.69              4.38  \n",
       " 4                 2.69              4.36  ,\n",
       " 'EPS Revisions':        EPS Revisions  Current Qtr. (Dec 2018)  Next Qtr. (Mar 2019)  \\\n",
       " 0     Up Last 7 Days                      1.0                   NaN   \n",
       " 1    Up Last 30 Days                      1.0                   NaN   \n",
       " 2   Down Last 7 Days                      NaN                   NaN   \n",
       " 3  Down Last 30 Days                      1.0                   2.0   \n",
       " \n",
       "    Current Year (2018)  Next Year (2019)  \n",
       " 0                  1.0               NaN  \n",
       " 1                  1.0               NaN  \n",
       " 2                  NaN               NaN  \n",
       " 3                  1.0               2.0  ,\n",
       " 'Growth Estimates':            Growth Estimates     NFLX  Industry  Sector  S&P 500\n",
       " 0              Current Qtr.  -41.50%       NaN     NaN     0.48\n",
       " 1                 Next Qtr.   42.20%       NaN     NaN     0.40\n",
       " 2              Current Year  112.80%       NaN     NaN     0.21\n",
       " 3                 Next Year   57.90%       NaN     NaN     0.10\n",
       " 4  Next 5 Years (per annum)   61.80%       NaN     NaN     0.11\n",
       " 5  Past 5 Years (per annum)   50.14%       NaN     NaN      NaN}"
      ]
     },
     "execution_count": 27,
     "metadata": {},
     "output_type": "execute_result"
    }
   ],
   "source": [
    "#!source activate py36;pip install pandas-datareader --upgrade\n",
    "#!pip install stockstats\n",
    "from pandas_datareader import data as web\n",
    "from stockstats import StockDataFrame as Sdf\n",
    "import datetime\n",
    "start=datetime.datetime(2000, 1, 1)\n",
    "end=datetime.datetime.today()\n",
    "\n",
    "#df = web.DataReader('IBM',\"yahoo\")\n",
    "#df\n",
    "stock = web.get_data_yahoo('SPY')\n",
    "stock_df = Sdf.retype(stock)\n",
    "stock['rsi']=stock_df['rsi_14']\n",
    "stock_df\n",
    "#!pip install yahoo_fin.stock_info\n",
    "\n",
    "#use yahoo_fin to extract key financial information from yahoo finance\n",
    "from yahoo_fin import stock_info as si\n",
    "df = si.get_quote_table('aapl')\n",
    "df\n",
    "df2 = si.get_income_statement(\"AAPL\")\n",
    "df2\n",
    "df3 = si.get_analysts_info('nflx')\n",
    "df3"
   ]
  },
  {
   "cell_type": "code",
   "execution_count": 10,
   "metadata": {},
   "outputs": [
    {
     "ename": "SyntaxError",
     "evalue": "invalid syntax (<ipython-input-10-a124f31ae89b>, line 7)",
     "output_type": "error",
     "traceback": [
      "\u001b[0;36m  File \u001b[0;32m\"<ipython-input-10-a124f31ae89b>\"\u001b[0;36m, line \u001b[0;32m7\u001b[0m\n\u001b[0;31m    getFinancials(Symbol, env = .GlobalEnv, src = \"google\",\u001b[0m\n\u001b[0m                                ^\u001b[0m\n\u001b[0;31mSyntaxError\u001b[0m\u001b[0;31m:\u001b[0m invalid syntax\n"
     ]
    }
   ],
   "source": [
    "\n"
   ]
  },
  {
   "cell_type": "code",
   "execution_count": null,
   "metadata": {},
   "outputs": [],
   "source": []
  }
 ],
 "metadata": {
  "kernelspec": {
   "display_name": "Python 3",
   "language": "python",
   "name": "python3"
  },
  "language_info": {
   "codemirror_mode": {
    "name": "ipython",
    "version": 3
   },
   "file_extension": ".py",
   "mimetype": "text/x-python",
   "name": "python",
   "nbconvert_exporter": "python",
   "pygments_lexer": "ipython3",
   "version": "3.6.3"
  }
 },
 "nbformat": 4,
 "nbformat_minor": 2
}
